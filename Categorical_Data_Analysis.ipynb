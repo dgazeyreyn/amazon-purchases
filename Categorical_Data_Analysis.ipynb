{
  "nbformat": 4,
  "nbformat_minor": 0,
  "metadata": {
    "colab": {
      "provenance": [],
      "authorship_tag": "ABX9TyPcVKLxInM5iFM1QNAEGvw7",
      "include_colab_link": true
    },
    "kernelspec": {
      "name": "python3",
      "display_name": "Python 3"
    },
    "language_info": {
      "name": "python"
    }
  },
  "cells": [
    {
      "cell_type": "markdown",
      "metadata": {
        "id": "view-in-github",
        "colab_type": "text"
      },
      "source": [
        "<a href=\"https://colab.research.google.com/github/dgazeyreyn/amazon-purchases/blob/main/Categorical_Data_Analysis.ipynb\" target=\"_parent\"><img src=\"https://colab.research.google.com/assets/colab-badge.svg\" alt=\"Open In Colab\"/></a>"
      ]
    },
    {
      "cell_type": "code",
      "execution_count": null,
      "metadata": {
        "id": "6UyhGmIsbg-x",
        "colab": {
          "base_uri": "https://localhost:8080/"
        },
        "outputId": "cd64a864-ce1f-413f-9271-02a365ccd390"
      },
      "outputs": [
        {
          "output_type": "stream",
          "name": "stdout",
          "text": [
            "Authenticated\n"
          ]
        }
      ],
      "source": [
        "from google.colab import auth\n",
        "auth.authenticate_user()\n",
        "print('Authenticated')"
      ]
    },
    {
      "cell_type": "code",
      "source": [
        "%load_ext google.colab.data_table"
      ],
      "metadata": {
        "id": "LDGyZ0L5c9lr"
      },
      "execution_count": null,
      "outputs": []
    },
    {
      "cell_type": "code",
      "source": [
        "# Display query output immediately\n",
        "\n",
        "%%bigquery --project mind-diagnostics-414622\n",
        "SELECT\n",
        "  COUNT(*) as total_rows\n",
        "FROM `sandbox-418514.sample_data.visitor_signups_data`"
      ],
      "metadata": {
        "id": "OuLcg6Z7dM-S"
      },
      "execution_count": null,
      "outputs": []
    },
    {
      "cell_type": "code",
      "source": [
        "project_id = 'sandbox-418514'"
      ],
      "metadata": {
        "id": "X3x8a2qMfW1C"
      },
      "execution_count": null,
      "outputs": []
    },
    {
      "cell_type": "code",
      "source": [
        "from google.cloud import bigquery\n",
        "\n",
        "client = bigquery.Client(project=project_id)\n",
        "\n",
        "df = client.query('''\n",
        "  SELECT\n",
        "    *\n",
        "  FROM\n",
        "    `sandbox-418514.sample_data.visitor_signups_data`''').to_dataframe()"
      ],
      "metadata": {
        "id": "dw7aMrKB3bwC"
      },
      "execution_count": null,
      "outputs": []
    },
    {
      "cell_type": "code",
      "source": [
        "# =============================================================================\n",
        "# Import dependencies\n",
        "# =============================================================================\n",
        "import pandas as pd\n",
        "import numpy as np\n",
        "import matplotlib.pyplot as plt\n",
        "plt.rc(\"font\", size=14)\n",
        "import scipy.stats as stats"
      ],
      "metadata": {
        "id": "tzz5JwKWg1rD"
      },
      "execution_count": null,
      "outputs": []
    },
    {
      "cell_type": "code",
      "source": [
        "# creating a dataframe counting non-NA for each column\n",
        "fields_values_cnt_df = df.count().to_frame(name='values_cnt')\n",
        "# creating a dataframe counting missing values for each column\n",
        "fields_nulls_cnt_df = df.isnull().sum().to_frame(name='nulls_cnt')\n",
        "# creating a dataframe that joins fields_values_cnt_df with fields_nulls_cnt_df\n",
        "fields_summary_df = fields_values_cnt_df.join(fields_nulls_cnt_df, how='left')\n",
        "\n",
        "fields_summary_df.head(10)"
      ],
      "metadata": {
        "id": "lWHzbhPMhb-A",
        "colab": {
          "base_uri": "https://localhost:8080/",
          "height": 229
        },
        "outputId": "1583d297-2afa-443b-a170-62effead23a5"
      },
      "execution_count": null,
      "outputs": [
        {
          "output_type": "execute_result",
          "data": {
            "text/plain": [
              "              values_cnt  nulls_cnt\n",
              "mduid             535391          0\n",
              "bh_goal_name        8727     526664\n",
              "region            535391          0\n",
              "browser           535391          0\n",
              "os_name           529900       5491"
            ],
            "text/html": [
              "\n",
              "  <div id=\"df-f6ef7ecc-b211-4348-badd-2bb70739d7cb\" class=\"colab-df-container\">\n",
              "    <div>\n",
              "<style scoped>\n",
              "    .dataframe tbody tr th:only-of-type {\n",
              "        vertical-align: middle;\n",
              "    }\n",
              "\n",
              "    .dataframe tbody tr th {\n",
              "        vertical-align: top;\n",
              "    }\n",
              "\n",
              "    .dataframe thead th {\n",
              "        text-align: right;\n",
              "    }\n",
              "</style>\n",
              "<table border=\"1\" class=\"dataframe\">\n",
              "  <thead>\n",
              "    <tr style=\"text-align: right;\">\n",
              "      <th></th>\n",
              "      <th>values_cnt</th>\n",
              "      <th>nulls_cnt</th>\n",
              "    </tr>\n",
              "  </thead>\n",
              "  <tbody>\n",
              "    <tr>\n",
              "      <th>mduid</th>\n",
              "      <td>535391</td>\n",
              "      <td>0</td>\n",
              "    </tr>\n",
              "    <tr>\n",
              "      <th>bh_goal_name</th>\n",
              "      <td>8727</td>\n",
              "      <td>526664</td>\n",
              "    </tr>\n",
              "    <tr>\n",
              "      <th>region</th>\n",
              "      <td>535391</td>\n",
              "      <td>0</td>\n",
              "    </tr>\n",
              "    <tr>\n",
              "      <th>browser</th>\n",
              "      <td>535391</td>\n",
              "      <td>0</td>\n",
              "    </tr>\n",
              "    <tr>\n",
              "      <th>os_name</th>\n",
              "      <td>529900</td>\n",
              "      <td>5491</td>\n",
              "    </tr>\n",
              "  </tbody>\n",
              "</table>\n",
              "</div>\n",
              "    <div class=\"colab-df-buttons\">\n",
              "\n",
              "  <div class=\"colab-df-container\">\n",
              "    <button class=\"colab-df-convert\" onclick=\"convertToInteractive('df-f6ef7ecc-b211-4348-badd-2bb70739d7cb')\"\n",
              "            title=\"Convert this dataframe to an interactive table.\"\n",
              "            style=\"display:none;\">\n",
              "\n",
              "  <svg xmlns=\"http://www.w3.org/2000/svg\" height=\"24px\" viewBox=\"0 -960 960 960\">\n",
              "    <path d=\"M120-120v-720h720v720H120Zm60-500h600v-160H180v160Zm220 220h160v-160H400v160Zm0 220h160v-160H400v160ZM180-400h160v-160H180v160Zm440 0h160v-160H620v160ZM180-180h160v-160H180v160Zm440 0h160v-160H620v160Z\"/>\n",
              "  </svg>\n",
              "    </button>\n",
              "\n",
              "  <style>\n",
              "    .colab-df-container {\n",
              "      display:flex;\n",
              "      gap: 12px;\n",
              "    }\n",
              "\n",
              "    .colab-df-convert {\n",
              "      background-color: #E8F0FE;\n",
              "      border: none;\n",
              "      border-radius: 50%;\n",
              "      cursor: pointer;\n",
              "      display: none;\n",
              "      fill: #1967D2;\n",
              "      height: 32px;\n",
              "      padding: 0 0 0 0;\n",
              "      width: 32px;\n",
              "    }\n",
              "\n",
              "    .colab-df-convert:hover {\n",
              "      background-color: #E2EBFA;\n",
              "      box-shadow: 0px 1px 2px rgba(60, 64, 67, 0.3), 0px 1px 3px 1px rgba(60, 64, 67, 0.15);\n",
              "      fill: #174EA6;\n",
              "    }\n",
              "\n",
              "    .colab-df-buttons div {\n",
              "      margin-bottom: 4px;\n",
              "    }\n",
              "\n",
              "    [theme=dark] .colab-df-convert {\n",
              "      background-color: #3B4455;\n",
              "      fill: #D2E3FC;\n",
              "    }\n",
              "\n",
              "    [theme=dark] .colab-df-convert:hover {\n",
              "      background-color: #434B5C;\n",
              "      box-shadow: 0px 1px 3px 1px rgba(0, 0, 0, 0.15);\n",
              "      filter: drop-shadow(0px 1px 2px rgba(0, 0, 0, 0.3));\n",
              "      fill: #FFFFFF;\n",
              "    }\n",
              "  </style>\n",
              "\n",
              "    <script>\n",
              "      const buttonEl =\n",
              "        document.querySelector('#df-f6ef7ecc-b211-4348-badd-2bb70739d7cb button.colab-df-convert');\n",
              "      buttonEl.style.display =\n",
              "        google.colab.kernel.accessAllowed ? 'block' : 'none';\n",
              "\n",
              "      async function convertToInteractive(key) {\n",
              "        const element = document.querySelector('#df-f6ef7ecc-b211-4348-badd-2bb70739d7cb');\n",
              "        const dataTable =\n",
              "          await google.colab.kernel.invokeFunction('convertToInteractive',\n",
              "                                                    [key], {});\n",
              "        if (!dataTable) return;\n",
              "\n",
              "        const docLinkHtml = 'Like what you see? Visit the ' +\n",
              "          '<a target=\"_blank\" href=https://colab.research.google.com/notebooks/data_table.ipynb>data table notebook</a>'\n",
              "          + ' to learn more about interactive tables.';\n",
              "        element.innerHTML = '';\n",
              "        dataTable['output_type'] = 'display_data';\n",
              "        await google.colab.output.renderOutput(dataTable, element);\n",
              "        const docLink = document.createElement('div');\n",
              "        docLink.innerHTML = docLinkHtml;\n",
              "        element.appendChild(docLink);\n",
              "      }\n",
              "    </script>\n",
              "  </div>\n",
              "\n",
              "\n",
              "<div id=\"df-1b1fc653-9d64-43c9-ae4f-ad800a5dfecd\">\n",
              "  <button class=\"colab-df-quickchart\" onclick=\"quickchart('df-1b1fc653-9d64-43c9-ae4f-ad800a5dfecd')\"\n",
              "            title=\"Suggest charts\"\n",
              "            style=\"display:none;\">\n",
              "\n",
              "<svg xmlns=\"http://www.w3.org/2000/svg\" height=\"24px\"viewBox=\"0 0 24 24\"\n",
              "     width=\"24px\">\n",
              "    <g>\n",
              "        <path d=\"M19 3H5c-1.1 0-2 .9-2 2v14c0 1.1.9 2 2 2h14c1.1 0 2-.9 2-2V5c0-1.1-.9-2-2-2zM9 17H7v-7h2v7zm4 0h-2V7h2v10zm4 0h-2v-4h2v4z\"/>\n",
              "    </g>\n",
              "</svg>\n",
              "  </button>\n",
              "\n",
              "<style>\n",
              "  .colab-df-quickchart {\n",
              "      --bg-color: #E8F0FE;\n",
              "      --fill-color: #1967D2;\n",
              "      --hover-bg-color: #E2EBFA;\n",
              "      --hover-fill-color: #174EA6;\n",
              "      --disabled-fill-color: #AAA;\n",
              "      --disabled-bg-color: #DDD;\n",
              "  }\n",
              "\n",
              "  [theme=dark] .colab-df-quickchart {\n",
              "      --bg-color: #3B4455;\n",
              "      --fill-color: #D2E3FC;\n",
              "      --hover-bg-color: #434B5C;\n",
              "      --hover-fill-color: #FFFFFF;\n",
              "      --disabled-bg-color: #3B4455;\n",
              "      --disabled-fill-color: #666;\n",
              "  }\n",
              "\n",
              "  .colab-df-quickchart {\n",
              "    background-color: var(--bg-color);\n",
              "    border: none;\n",
              "    border-radius: 50%;\n",
              "    cursor: pointer;\n",
              "    display: none;\n",
              "    fill: var(--fill-color);\n",
              "    height: 32px;\n",
              "    padding: 0;\n",
              "    width: 32px;\n",
              "  }\n",
              "\n",
              "  .colab-df-quickchart:hover {\n",
              "    background-color: var(--hover-bg-color);\n",
              "    box-shadow: 0 1px 2px rgba(60, 64, 67, 0.3), 0 1px 3px 1px rgba(60, 64, 67, 0.15);\n",
              "    fill: var(--button-hover-fill-color);\n",
              "  }\n",
              "\n",
              "  .colab-df-quickchart-complete:disabled,\n",
              "  .colab-df-quickchart-complete:disabled:hover {\n",
              "    background-color: var(--disabled-bg-color);\n",
              "    fill: var(--disabled-fill-color);\n",
              "    box-shadow: none;\n",
              "  }\n",
              "\n",
              "  .colab-df-spinner {\n",
              "    border: 2px solid var(--fill-color);\n",
              "    border-color: transparent;\n",
              "    border-bottom-color: var(--fill-color);\n",
              "    animation:\n",
              "      spin 1s steps(1) infinite;\n",
              "  }\n",
              "\n",
              "  @keyframes spin {\n",
              "    0% {\n",
              "      border-color: transparent;\n",
              "      border-bottom-color: var(--fill-color);\n",
              "      border-left-color: var(--fill-color);\n",
              "    }\n",
              "    20% {\n",
              "      border-color: transparent;\n",
              "      border-left-color: var(--fill-color);\n",
              "      border-top-color: var(--fill-color);\n",
              "    }\n",
              "    30% {\n",
              "      border-color: transparent;\n",
              "      border-left-color: var(--fill-color);\n",
              "      border-top-color: var(--fill-color);\n",
              "      border-right-color: var(--fill-color);\n",
              "    }\n",
              "    40% {\n",
              "      border-color: transparent;\n",
              "      border-right-color: var(--fill-color);\n",
              "      border-top-color: var(--fill-color);\n",
              "    }\n",
              "    60% {\n",
              "      border-color: transparent;\n",
              "      border-right-color: var(--fill-color);\n",
              "    }\n",
              "    80% {\n",
              "      border-color: transparent;\n",
              "      border-right-color: var(--fill-color);\n",
              "      border-bottom-color: var(--fill-color);\n",
              "    }\n",
              "    90% {\n",
              "      border-color: transparent;\n",
              "      border-bottom-color: var(--fill-color);\n",
              "    }\n",
              "  }\n",
              "</style>\n",
              "\n",
              "  <script>\n",
              "    async function quickchart(key) {\n",
              "      const quickchartButtonEl =\n",
              "        document.querySelector('#' + key + ' button');\n",
              "      quickchartButtonEl.disabled = true;  // To prevent multiple clicks.\n",
              "      quickchartButtonEl.classList.add('colab-df-spinner');\n",
              "      try {\n",
              "        const charts = await google.colab.kernel.invokeFunction(\n",
              "            'suggestCharts', [key], {});\n",
              "      } catch (error) {\n",
              "        console.error('Error during call to suggestCharts:', error);\n",
              "      }\n",
              "      quickchartButtonEl.classList.remove('colab-df-spinner');\n",
              "      quickchartButtonEl.classList.add('colab-df-quickchart-complete');\n",
              "    }\n",
              "    (() => {\n",
              "      let quickchartButtonEl =\n",
              "        document.querySelector('#df-1b1fc653-9d64-43c9-ae4f-ad800a5dfecd button');\n",
              "      quickchartButtonEl.style.display =\n",
              "        google.colab.kernel.accessAllowed ? 'block' : 'none';\n",
              "    })();\n",
              "  </script>\n",
              "</div>\n",
              "\n",
              "    </div>\n",
              "  </div>\n"
            ],
            "application/vnd.google.colaboratory.intrinsic+json": {
              "type": "dataframe",
              "variable_name": "fields_summary_df",
              "summary": "{\n  \"name\": \"fields_summary_df\",\n  \"rows\": 5,\n  \"fields\": [\n    {\n      \"column\": \"values_cnt\",\n      \"properties\": {\n        \"dtype\": \"number\",\n        \"std\": 234929,\n        \"min\": 8727,\n        \"max\": 535391,\n        \"num_unique_values\": 3,\n        \"samples\": [\n          535391,\n          8727,\n          529900\n        ],\n        \"semantic_type\": \"\",\n        \"description\": \"\"\n      }\n    },\n    {\n      \"column\": \"nulls_cnt\",\n      \"properties\": {\n        \"dtype\": \"number\",\n        \"std\": 234929,\n        \"min\": 0,\n        \"max\": 526664,\n        \"num_unique_values\": 3,\n        \"samples\": [\n          0,\n          526664,\n          5491\n        ],\n        \"semantic_type\": \"\",\n        \"description\": \"\"\n      }\n    }\n  ]\n}"
            },
            "application/vnd.google.colaboratory.module+javascript": "\n      import \"https://ssl.gstatic.com/colaboratory/data_table/881c4a0d49046431/data_table.js\";\n\n      const table = window.createDataTable({\n        data: [[\"mduid\",\n{\n            'v': 535391,\n            'f': \"535391\",\n        },\n{\n            'v': 0,\n            'f': \"0\",\n        }],\n [\"bh_goal_name\",\n{\n            'v': 8727,\n            'f': \"8727\",\n        },\n{\n            'v': 526664,\n            'f': \"526664\",\n        }],\n [\"region\",\n{\n            'v': 535391,\n            'f': \"535391\",\n        },\n{\n            'v': 0,\n            'f': \"0\",\n        }],\n [\"browser\",\n{\n            'v': 535391,\n            'f': \"535391\",\n        },\n{\n            'v': 0,\n            'f': \"0\",\n        }],\n [\"os_name\",\n{\n            'v': 529900,\n            'f': \"529900\",\n        },\n{\n            'v': 5491,\n            'f': \"5491\",\n        }]],\n        columns: [[\"string\", \"index\"], [\"number\", \"values_cnt\"], [\"number\", \"nulls_cnt\"]],\n        columnOptions: [{\"width\": \"1px\", \"className\": \"index_column\"}],\n        rowsPerPage: 25,\n        helpUrl: \"https://colab.research.google.com/notebooks/data_table.ipynb\",\n        suppressOutputScrolling: true,\n        minimumWidth: undefined,\n      });\n\n      function appendQuickchartButton(parentElement) {\n        let quickchartButtonContainerElement = document.createElement('div');\n        quickchartButtonContainerElement.innerHTML = `\n<div id=\"df-95fa5b23-a0f0-4b4c-bf5b-8ca3bd8c2384\">\n  <button class=\"colab-df-quickchart\" onclick=\"quickchart('df-95fa5b23-a0f0-4b4c-bf5b-8ca3bd8c2384')\"\n            title=\"Suggest charts\"\n            style=\"display:none;\">\n    \n<svg xmlns=\"http://www.w3.org/2000/svg\" height=\"24px\"viewBox=\"0 0 24 24\"\n     width=\"24px\">\n    <g>\n        <path d=\"M19 3H5c-1.1 0-2 .9-2 2v14c0 1.1.9 2 2 2h14c1.1 0 2-.9 2-2V5c0-1.1-.9-2-2-2zM9 17H7v-7h2v7zm4 0h-2V7h2v10zm4 0h-2v-4h2v4z\"/>\n    </g>\n</svg>\n  </button>\n  \n<style>\n  .colab-df-quickchart {\n      --bg-color: #E8F0FE;\n      --fill-color: #1967D2;\n      --hover-bg-color: #E2EBFA;\n      --hover-fill-color: #174EA6;\n      --disabled-fill-color: #AAA;\n      --disabled-bg-color: #DDD;\n  }\n\n  [theme=dark] .colab-df-quickchart {\n      --bg-color: #3B4455;\n      --fill-color: #D2E3FC;\n      --hover-bg-color: #434B5C;\n      --hover-fill-color: #FFFFFF;\n      --disabled-bg-color: #3B4455;\n      --disabled-fill-color: #666;\n  }\n\n  .colab-df-quickchart {\n    background-color: var(--bg-color);\n    border: none;\n    border-radius: 50%;\n    cursor: pointer;\n    display: none;\n    fill: var(--fill-color);\n    height: 32px;\n    padding: 0;\n    width: 32px;\n  }\n\n  .colab-df-quickchart:hover {\n    background-color: var(--hover-bg-color);\n    box-shadow: 0 1px 2px rgba(60, 64, 67, 0.3), 0 1px 3px 1px rgba(60, 64, 67, 0.15);\n    fill: var(--button-hover-fill-color);\n  }\n\n  .colab-df-quickchart-complete:disabled,\n  .colab-df-quickchart-complete:disabled:hover {\n    background-color: var(--disabled-bg-color);\n    fill: var(--disabled-fill-color);\n    box-shadow: none;\n  }\n\n  .colab-df-spinner {\n    border: 2px solid var(--fill-color);\n    border-color: transparent;\n    border-bottom-color: var(--fill-color);\n    animation:\n      spin 1s steps(1) infinite;\n  }\n\n  @keyframes spin {\n    0% {\n      border-color: transparent;\n      border-bottom-color: var(--fill-color);\n      border-left-color: var(--fill-color);\n    }\n    20% {\n      border-color: transparent;\n      border-left-color: var(--fill-color);\n      border-top-color: var(--fill-color);\n    }\n    30% {\n      border-color: transparent;\n      border-left-color: var(--fill-color);\n      border-top-color: var(--fill-color);\n      border-right-color: var(--fill-color);\n    }\n    40% {\n      border-color: transparent;\n      border-right-color: var(--fill-color);\n      border-top-color: var(--fill-color);\n    }\n    60% {\n      border-color: transparent;\n      border-right-color: var(--fill-color);\n    }\n    80% {\n      border-color: transparent;\n      border-right-color: var(--fill-color);\n      border-bottom-color: var(--fill-color);\n    }\n    90% {\n      border-color: transparent;\n      border-bottom-color: var(--fill-color);\n    }\n  }\n</style>\n\n  <script>\n    async function quickchart(key) {\n      const quickchartButtonEl =\n        document.querySelector('#' + key + ' button');\n      quickchartButtonEl.disabled = true;  // To prevent multiple clicks.\n      quickchartButtonEl.classList.add('colab-df-spinner');\n      try {\n        const charts = await google.colab.kernel.invokeFunction(\n            'suggestCharts', [key], {});\n      } catch (error) {\n        console.error('Error during call to suggestCharts:', error);\n      }\n      quickchartButtonEl.classList.remove('colab-df-spinner');\n      quickchartButtonEl.classList.add('colab-df-quickchart-complete');\n    }\n    (() => {\n      let quickchartButtonEl =\n        document.querySelector('#df-95fa5b23-a0f0-4b4c-bf5b-8ca3bd8c2384 button');\n      quickchartButtonEl.style.display =\n        google.colab.kernel.accessAllowed ? 'block' : 'none';\n    })();\n  </script>\n</div>`;\n        parentElement.appendChild(quickchartButtonContainerElement);\n      }\n\n      appendQuickchartButton(table);\n    "
          },
          "metadata": {},
          "execution_count": 6
        }
      ]
    },
    {
      "cell_type": "code",
      "source": [
        "# cleaning up some funkiness related to browser (contains both 'mobile_web' and 'mobile_web} values)\n",
        "df['browser_rev'] = df['browser'].apply(lambda x: 'mobile_web' if (x == 'mobile_web') or (x == 'mobile_web}') else 'desktop_web')\n",
        "# assigning null operating system (os_name) values to an 'unassigned' category\n",
        "df['os_name_rev'] = df['os_name'].apply(lambda x: 'unassigned' if x == None else x)\n",
        "# generating list of operating systems categories to be used for subsequent analysis\n",
        "os_list = ['iOS', 'Android', 'Windows', 'macOS', 'Chrome OS']\n",
        "df['os_name_grouped'] = np.where(df['os_name_rev'].isin(os_list), df['os_name_rev'], 'remaining')\n",
        "# creating binary 0/1 values to a new user_signups dependent variable\n",
        "df['user_signups'] = df['bh_goal_name'].apply(lambda x: 1 if pd.notnull(x) else 0)\n",
        "# replacing values containing spaces with an '_' to prevent downstream logistic regression from throwing errors\n",
        "df = df.replace(' ', '_', regex=True)"
      ],
      "metadata": {
        "id": "SeJdds-aUCgy"
      },
      "execution_count": null,
      "outputs": []
    },
    {
      "cell_type": "code",
      "source": [
        "df.head()"
      ],
      "metadata": {
        "id": "0s2By6M1EHTM",
        "colab": {
          "base_uri": "https://localhost:8080/",
          "height": 229
        },
        "outputId": "41881f02-6d2e-4578-886f-4cae6e1a0f27"
      },
      "execution_count": null,
      "outputs": [
        {
          "output_type": "execute_result",
          "data": {
            "text/plain": [
              "                              mduid bh_goal_name        region      browser  \\\n",
              "0  c3dd9c9787287cb2c3649933e05aadb6         None  Rhode_Island  desktop_web   \n",
              "1  26a3aaee9cb2b0230f871a120b197dc0         None  South_Dakota  desktop_web   \n",
              "2  ef7040df7893df97e3de1dab358a04bd         None  Rhode_Island  desktop_web   \n",
              "3  1e5615df1c93f69a17095fb353563a7c         None  Rhode_Island  desktop_web   \n",
              "4  e8ac65b98db15608c190bf30cb487693         None       Montana  desktop_web   \n",
              "\n",
              "  os_name  browser_rev os_name_rev os_name_grouped  user_signups  \n",
              "0   Linux  desktop_web       Linux       remaining             0  \n",
              "1   Linux  desktop_web       Linux       remaining             0  \n",
              "2   Linux  desktop_web       Linux       remaining             0  \n",
              "3   Linux  desktop_web       Linux       remaining             0  \n",
              "4  Ubuntu  desktop_web      Ubuntu       remaining             0  "
            ],
            "text/html": [
              "\n",
              "  <div id=\"df-0feb1f70-77d3-4faf-9f14-962aca824068\" class=\"colab-df-container\">\n",
              "    <div>\n",
              "<style scoped>\n",
              "    .dataframe tbody tr th:only-of-type {\n",
              "        vertical-align: middle;\n",
              "    }\n",
              "\n",
              "    .dataframe tbody tr th {\n",
              "        vertical-align: top;\n",
              "    }\n",
              "\n",
              "    .dataframe thead th {\n",
              "        text-align: right;\n",
              "    }\n",
              "</style>\n",
              "<table border=\"1\" class=\"dataframe\">\n",
              "  <thead>\n",
              "    <tr style=\"text-align: right;\">\n",
              "      <th></th>\n",
              "      <th>mduid</th>\n",
              "      <th>bh_goal_name</th>\n",
              "      <th>region</th>\n",
              "      <th>browser</th>\n",
              "      <th>os_name</th>\n",
              "      <th>browser_rev</th>\n",
              "      <th>os_name_rev</th>\n",
              "      <th>os_name_grouped</th>\n",
              "      <th>user_signups</th>\n",
              "    </tr>\n",
              "  </thead>\n",
              "  <tbody>\n",
              "    <tr>\n",
              "      <th>0</th>\n",
              "      <td>c3dd9c9787287cb2c3649933e05aadb6</td>\n",
              "      <td>None</td>\n",
              "      <td>Rhode_Island</td>\n",
              "      <td>desktop_web</td>\n",
              "      <td>Linux</td>\n",
              "      <td>desktop_web</td>\n",
              "      <td>Linux</td>\n",
              "      <td>remaining</td>\n",
              "      <td>0</td>\n",
              "    </tr>\n",
              "    <tr>\n",
              "      <th>1</th>\n",
              "      <td>26a3aaee9cb2b0230f871a120b197dc0</td>\n",
              "      <td>None</td>\n",
              "      <td>South_Dakota</td>\n",
              "      <td>desktop_web</td>\n",
              "      <td>Linux</td>\n",
              "      <td>desktop_web</td>\n",
              "      <td>Linux</td>\n",
              "      <td>remaining</td>\n",
              "      <td>0</td>\n",
              "    </tr>\n",
              "    <tr>\n",
              "      <th>2</th>\n",
              "      <td>ef7040df7893df97e3de1dab358a04bd</td>\n",
              "      <td>None</td>\n",
              "      <td>Rhode_Island</td>\n",
              "      <td>desktop_web</td>\n",
              "      <td>Linux</td>\n",
              "      <td>desktop_web</td>\n",
              "      <td>Linux</td>\n",
              "      <td>remaining</td>\n",
              "      <td>0</td>\n",
              "    </tr>\n",
              "    <tr>\n",
              "      <th>3</th>\n",
              "      <td>1e5615df1c93f69a17095fb353563a7c</td>\n",
              "      <td>None</td>\n",
              "      <td>Rhode_Island</td>\n",
              "      <td>desktop_web</td>\n",
              "      <td>Linux</td>\n",
              "      <td>desktop_web</td>\n",
              "      <td>Linux</td>\n",
              "      <td>remaining</td>\n",
              "      <td>0</td>\n",
              "    </tr>\n",
              "    <tr>\n",
              "      <th>4</th>\n",
              "      <td>e8ac65b98db15608c190bf30cb487693</td>\n",
              "      <td>None</td>\n",
              "      <td>Montana</td>\n",
              "      <td>desktop_web</td>\n",
              "      <td>Ubuntu</td>\n",
              "      <td>desktop_web</td>\n",
              "      <td>Ubuntu</td>\n",
              "      <td>remaining</td>\n",
              "      <td>0</td>\n",
              "    </tr>\n",
              "  </tbody>\n",
              "</table>\n",
              "</div>\n",
              "    <div class=\"colab-df-buttons\">\n",
              "\n",
              "  <div class=\"colab-df-container\">\n",
              "    <button class=\"colab-df-convert\" onclick=\"convertToInteractive('df-0feb1f70-77d3-4faf-9f14-962aca824068')\"\n",
              "            title=\"Convert this dataframe to an interactive table.\"\n",
              "            style=\"display:none;\">\n",
              "\n",
              "  <svg xmlns=\"http://www.w3.org/2000/svg\" height=\"24px\" viewBox=\"0 -960 960 960\">\n",
              "    <path d=\"M120-120v-720h720v720H120Zm60-500h600v-160H180v160Zm220 220h160v-160H400v160Zm0 220h160v-160H400v160ZM180-400h160v-160H180v160Zm440 0h160v-160H620v160ZM180-180h160v-160H180v160Zm440 0h160v-160H620v160Z\"/>\n",
              "  </svg>\n",
              "    </button>\n",
              "\n",
              "  <style>\n",
              "    .colab-df-container {\n",
              "      display:flex;\n",
              "      gap: 12px;\n",
              "    }\n",
              "\n",
              "    .colab-df-convert {\n",
              "      background-color: #E8F0FE;\n",
              "      border: none;\n",
              "      border-radius: 50%;\n",
              "      cursor: pointer;\n",
              "      display: none;\n",
              "      fill: #1967D2;\n",
              "      height: 32px;\n",
              "      padding: 0 0 0 0;\n",
              "      width: 32px;\n",
              "    }\n",
              "\n",
              "    .colab-df-convert:hover {\n",
              "      background-color: #E2EBFA;\n",
              "      box-shadow: 0px 1px 2px rgba(60, 64, 67, 0.3), 0px 1px 3px 1px rgba(60, 64, 67, 0.15);\n",
              "      fill: #174EA6;\n",
              "    }\n",
              "\n",
              "    .colab-df-buttons div {\n",
              "      margin-bottom: 4px;\n",
              "    }\n",
              "\n",
              "    [theme=dark] .colab-df-convert {\n",
              "      background-color: #3B4455;\n",
              "      fill: #D2E3FC;\n",
              "    }\n",
              "\n",
              "    [theme=dark] .colab-df-convert:hover {\n",
              "      background-color: #434B5C;\n",
              "      box-shadow: 0px 1px 3px 1px rgba(0, 0, 0, 0.15);\n",
              "      filter: drop-shadow(0px 1px 2px rgba(0, 0, 0, 0.3));\n",
              "      fill: #FFFFFF;\n",
              "    }\n",
              "  </style>\n",
              "\n",
              "    <script>\n",
              "      const buttonEl =\n",
              "        document.querySelector('#df-0feb1f70-77d3-4faf-9f14-962aca824068 button.colab-df-convert');\n",
              "      buttonEl.style.display =\n",
              "        google.colab.kernel.accessAllowed ? 'block' : 'none';\n",
              "\n",
              "      async function convertToInteractive(key) {\n",
              "        const element = document.querySelector('#df-0feb1f70-77d3-4faf-9f14-962aca824068');\n",
              "        const dataTable =\n",
              "          await google.colab.kernel.invokeFunction('convertToInteractive',\n",
              "                                                    [key], {});\n",
              "        if (!dataTable) return;\n",
              "\n",
              "        const docLinkHtml = 'Like what you see? Visit the ' +\n",
              "          '<a target=\"_blank\" href=https://colab.research.google.com/notebooks/data_table.ipynb>data table notebook</a>'\n",
              "          + ' to learn more about interactive tables.';\n",
              "        element.innerHTML = '';\n",
              "        dataTable['output_type'] = 'display_data';\n",
              "        await google.colab.output.renderOutput(dataTable, element);\n",
              "        const docLink = document.createElement('div');\n",
              "        docLink.innerHTML = docLinkHtml;\n",
              "        element.appendChild(docLink);\n",
              "      }\n",
              "    </script>\n",
              "  </div>\n",
              "\n",
              "\n",
              "<div id=\"df-50b034b6-5fe1-49b0-a37c-d78c089fc12a\">\n",
              "  <button class=\"colab-df-quickchart\" onclick=\"quickchart('df-50b034b6-5fe1-49b0-a37c-d78c089fc12a')\"\n",
              "            title=\"Suggest charts\"\n",
              "            style=\"display:none;\">\n",
              "\n",
              "<svg xmlns=\"http://www.w3.org/2000/svg\" height=\"24px\"viewBox=\"0 0 24 24\"\n",
              "     width=\"24px\">\n",
              "    <g>\n",
              "        <path d=\"M19 3H5c-1.1 0-2 .9-2 2v14c0 1.1.9 2 2 2h14c1.1 0 2-.9 2-2V5c0-1.1-.9-2-2-2zM9 17H7v-7h2v7zm4 0h-2V7h2v10zm4 0h-2v-4h2v4z\"/>\n",
              "    </g>\n",
              "</svg>\n",
              "  </button>\n",
              "\n",
              "<style>\n",
              "  .colab-df-quickchart {\n",
              "      --bg-color: #E8F0FE;\n",
              "      --fill-color: #1967D2;\n",
              "      --hover-bg-color: #E2EBFA;\n",
              "      --hover-fill-color: #174EA6;\n",
              "      --disabled-fill-color: #AAA;\n",
              "      --disabled-bg-color: #DDD;\n",
              "  }\n",
              "\n",
              "  [theme=dark] .colab-df-quickchart {\n",
              "      --bg-color: #3B4455;\n",
              "      --fill-color: #D2E3FC;\n",
              "      --hover-bg-color: #434B5C;\n",
              "      --hover-fill-color: #FFFFFF;\n",
              "      --disabled-bg-color: #3B4455;\n",
              "      --disabled-fill-color: #666;\n",
              "  }\n",
              "\n",
              "  .colab-df-quickchart {\n",
              "    background-color: var(--bg-color);\n",
              "    border: none;\n",
              "    border-radius: 50%;\n",
              "    cursor: pointer;\n",
              "    display: none;\n",
              "    fill: var(--fill-color);\n",
              "    height: 32px;\n",
              "    padding: 0;\n",
              "    width: 32px;\n",
              "  }\n",
              "\n",
              "  .colab-df-quickchart:hover {\n",
              "    background-color: var(--hover-bg-color);\n",
              "    box-shadow: 0 1px 2px rgba(60, 64, 67, 0.3), 0 1px 3px 1px rgba(60, 64, 67, 0.15);\n",
              "    fill: var(--button-hover-fill-color);\n",
              "  }\n",
              "\n",
              "  .colab-df-quickchart-complete:disabled,\n",
              "  .colab-df-quickchart-complete:disabled:hover {\n",
              "    background-color: var(--disabled-bg-color);\n",
              "    fill: var(--disabled-fill-color);\n",
              "    box-shadow: none;\n",
              "  }\n",
              "\n",
              "  .colab-df-spinner {\n",
              "    border: 2px solid var(--fill-color);\n",
              "    border-color: transparent;\n",
              "    border-bottom-color: var(--fill-color);\n",
              "    animation:\n",
              "      spin 1s steps(1) infinite;\n",
              "  }\n",
              "\n",
              "  @keyframes spin {\n",
              "    0% {\n",
              "      border-color: transparent;\n",
              "      border-bottom-color: var(--fill-color);\n",
              "      border-left-color: var(--fill-color);\n",
              "    }\n",
              "    20% {\n",
              "      border-color: transparent;\n",
              "      border-left-color: var(--fill-color);\n",
              "      border-top-color: var(--fill-color);\n",
              "    }\n",
              "    30% {\n",
              "      border-color: transparent;\n",
              "      border-left-color: var(--fill-color);\n",
              "      border-top-color: var(--fill-color);\n",
              "      border-right-color: var(--fill-color);\n",
              "    }\n",
              "    40% {\n",
              "      border-color: transparent;\n",
              "      border-right-color: var(--fill-color);\n",
              "      border-top-color: var(--fill-color);\n",
              "    }\n",
              "    60% {\n",
              "      border-color: transparent;\n",
              "      border-right-color: var(--fill-color);\n",
              "    }\n",
              "    80% {\n",
              "      border-color: transparent;\n",
              "      border-right-color: var(--fill-color);\n",
              "      border-bottom-color: var(--fill-color);\n",
              "    }\n",
              "    90% {\n",
              "      border-color: transparent;\n",
              "      border-bottom-color: var(--fill-color);\n",
              "    }\n",
              "  }\n",
              "</style>\n",
              "\n",
              "  <script>\n",
              "    async function quickchart(key) {\n",
              "      const quickchartButtonEl =\n",
              "        document.querySelector('#' + key + ' button');\n",
              "      quickchartButtonEl.disabled = true;  // To prevent multiple clicks.\n",
              "      quickchartButtonEl.classList.add('colab-df-spinner');\n",
              "      try {\n",
              "        const charts = await google.colab.kernel.invokeFunction(\n",
              "            'suggestCharts', [key], {});\n",
              "      } catch (error) {\n",
              "        console.error('Error during call to suggestCharts:', error);\n",
              "      }\n",
              "      quickchartButtonEl.classList.remove('colab-df-spinner');\n",
              "      quickchartButtonEl.classList.add('colab-df-quickchart-complete');\n",
              "    }\n",
              "    (() => {\n",
              "      let quickchartButtonEl =\n",
              "        document.querySelector('#df-50b034b6-5fe1-49b0-a37c-d78c089fc12a button');\n",
              "      quickchartButtonEl.style.display =\n",
              "        google.colab.kernel.accessAllowed ? 'block' : 'none';\n",
              "    })();\n",
              "  </script>\n",
              "</div>\n",
              "\n",
              "    </div>\n",
              "  </div>\n"
            ],
            "application/vnd.google.colaboratory.intrinsic+json": {
              "type": "dataframe",
              "variable_name": "df"
            },
            "application/vnd.google.colaboratory.module+javascript": "\n      import \"https://ssl.gstatic.com/colaboratory/data_table/881c4a0d49046431/data_table.js\";\n\n      const table = window.createDataTable({\n        data: [[{\n            'v': 0,\n            'f': \"0\",\n        },\n\"c3dd9c9787287cb2c3649933e05aadb6\",\n{\n            'v': null,\n            'f': \"null\",\n        },\n\"Rhode_Island\",\n\"desktop_web\",\n\"Linux\",\n\"desktop_web\",\n\"Linux\",\n\"remaining\",\n{\n            'v': 0,\n            'f': \"0\",\n        }],\n [{\n            'v': 1,\n            'f': \"1\",\n        },\n\"26a3aaee9cb2b0230f871a120b197dc0\",\n{\n            'v': null,\n            'f': \"null\",\n        },\n\"South_Dakota\",\n\"desktop_web\",\n\"Linux\",\n\"desktop_web\",\n\"Linux\",\n\"remaining\",\n{\n            'v': 0,\n            'f': \"0\",\n        }],\n [{\n            'v': 2,\n            'f': \"2\",\n        },\n\"ef7040df7893df97e3de1dab358a04bd\",\n{\n            'v': null,\n            'f': \"null\",\n        },\n\"Rhode_Island\",\n\"desktop_web\",\n\"Linux\",\n\"desktop_web\",\n\"Linux\",\n\"remaining\",\n{\n            'v': 0,\n            'f': \"0\",\n        }],\n [{\n            'v': 3,\n            'f': \"3\",\n        },\n\"1e5615df1c93f69a17095fb353563a7c\",\n{\n            'v': null,\n            'f': \"null\",\n        },\n\"Rhode_Island\",\n\"desktop_web\",\n\"Linux\",\n\"desktop_web\",\n\"Linux\",\n\"remaining\",\n{\n            'v': 0,\n            'f': \"0\",\n        }],\n [{\n            'v': 4,\n            'f': \"4\",\n        },\n\"e8ac65b98db15608c190bf30cb487693\",\n{\n            'v': null,\n            'f': \"null\",\n        },\n\"Montana\",\n\"desktop_web\",\n\"Ubuntu\",\n\"desktop_web\",\n\"Ubuntu\",\n\"remaining\",\n{\n            'v': 0,\n            'f': \"0\",\n        }]],\n        columns: [[\"number\", \"index\"], [\"string\", \"mduid\"], [\"number\", \"bh_goal_name\"], [\"string\", \"region\"], [\"string\", \"browser\"], [\"string\", \"os_name\"], [\"string\", \"browser_rev\"], [\"string\", \"os_name_rev\"], [\"string\", \"os_name_grouped\"], [\"number\", \"user_signups\"]],\n        columnOptions: [{\"width\": \"1px\", \"className\": \"index_column\"}],\n        rowsPerPage: 25,\n        helpUrl: \"https://colab.research.google.com/notebooks/data_table.ipynb\",\n        suppressOutputScrolling: true,\n        minimumWidth: undefined,\n      });\n\n      function appendQuickchartButton(parentElement) {\n        let quickchartButtonContainerElement = document.createElement('div');\n        quickchartButtonContainerElement.innerHTML = `\n<div id=\"df-f1423091-5765-4aa7-9160-540cca9aceb4\">\n  <button class=\"colab-df-quickchart\" onclick=\"quickchart('df-f1423091-5765-4aa7-9160-540cca9aceb4')\"\n            title=\"Suggest charts\"\n            style=\"display:none;\">\n    \n<svg xmlns=\"http://www.w3.org/2000/svg\" height=\"24px\"viewBox=\"0 0 24 24\"\n     width=\"24px\">\n    <g>\n        <path d=\"M19 3H5c-1.1 0-2 .9-2 2v14c0 1.1.9 2 2 2h14c1.1 0 2-.9 2-2V5c0-1.1-.9-2-2-2zM9 17H7v-7h2v7zm4 0h-2V7h2v10zm4 0h-2v-4h2v4z\"/>\n    </g>\n</svg>\n  </button>\n  \n<style>\n  .colab-df-quickchart {\n      --bg-color: #E8F0FE;\n      --fill-color: #1967D2;\n      --hover-bg-color: #E2EBFA;\n      --hover-fill-color: #174EA6;\n      --disabled-fill-color: #AAA;\n      --disabled-bg-color: #DDD;\n  }\n\n  [theme=dark] .colab-df-quickchart {\n      --bg-color: #3B4455;\n      --fill-color: #D2E3FC;\n      --hover-bg-color: #434B5C;\n      --hover-fill-color: #FFFFFF;\n      --disabled-bg-color: #3B4455;\n      --disabled-fill-color: #666;\n  }\n\n  .colab-df-quickchart {\n    background-color: var(--bg-color);\n    border: none;\n    border-radius: 50%;\n    cursor: pointer;\n    display: none;\n    fill: var(--fill-color);\n    height: 32px;\n    padding: 0;\n    width: 32px;\n  }\n\n  .colab-df-quickchart:hover {\n    background-color: var(--hover-bg-color);\n    box-shadow: 0 1px 2px rgba(60, 64, 67, 0.3), 0 1px 3px 1px rgba(60, 64, 67, 0.15);\n    fill: var(--button-hover-fill-color);\n  }\n\n  .colab-df-quickchart-complete:disabled,\n  .colab-df-quickchart-complete:disabled:hover {\n    background-color: var(--disabled-bg-color);\n    fill: var(--disabled-fill-color);\n    box-shadow: none;\n  }\n\n  .colab-df-spinner {\n    border: 2px solid var(--fill-color);\n    border-color: transparent;\n    border-bottom-color: var(--fill-color);\n    animation:\n      spin 1s steps(1) infinite;\n  }\n\n  @keyframes spin {\n    0% {\n      border-color: transparent;\n      border-bottom-color: var(--fill-color);\n      border-left-color: var(--fill-color);\n    }\n    20% {\n      border-color: transparent;\n      border-left-color: var(--fill-color);\n      border-top-color: var(--fill-color);\n    }\n    30% {\n      border-color: transparent;\n      border-left-color: var(--fill-color);\n      border-top-color: var(--fill-color);\n      border-right-color: var(--fill-color);\n    }\n    40% {\n      border-color: transparent;\n      border-right-color: var(--fill-color);\n      border-top-color: var(--fill-color);\n    }\n    60% {\n      border-color: transparent;\n      border-right-color: var(--fill-color);\n    }\n    80% {\n      border-color: transparent;\n      border-right-color: var(--fill-color);\n      border-bottom-color: var(--fill-color);\n    }\n    90% {\n      border-color: transparent;\n      border-bottom-color: var(--fill-color);\n    }\n  }\n</style>\n\n  <script>\n    async function quickchart(key) {\n      const quickchartButtonEl =\n        document.querySelector('#' + key + ' button');\n      quickchartButtonEl.disabled = true;  // To prevent multiple clicks.\n      quickchartButtonEl.classList.add('colab-df-spinner');\n      try {\n        const charts = await google.colab.kernel.invokeFunction(\n            'suggestCharts', [key], {});\n      } catch (error) {\n        console.error('Error during call to suggestCharts:', error);\n      }\n      quickchartButtonEl.classList.remove('colab-df-spinner');\n      quickchartButtonEl.classList.add('colab-df-quickchart-complete');\n    }\n    (() => {\n      let quickchartButtonEl =\n        document.querySelector('#df-f1423091-5765-4aa7-9160-540cca9aceb4 button');\n      quickchartButtonEl.style.display =\n        google.colab.kernel.accessAllowed ? 'block' : 'none';\n    })();\n  </script>\n</div>`;\n        parentElement.appendChild(quickchartButtonContainerElement);\n      }\n\n      appendQuickchartButton(table);\n    "
          },
          "metadata": {},
          "execution_count": 7
        }
      ]
    },
    {
      "cell_type": "code",
      "source": [],
      "metadata": {
        "id": "1qA_N4OchiuM"
      },
      "execution_count": null,
      "outputs": []
    },
    {
      "cell_type": "code",
      "source": [
        "# =============================================================================\n",
        "# =============================================================================\n",
        "# CHI-SQUARE TEST OF INDEPENDENCE - Determining whether a statistically\n",
        "# significant relationship exists between independent and dependent variable\n",
        "# =============================================================================\n",
        "# ============================================================================="
      ],
      "metadata": {
        "id": "ar4hO4yGhiiV"
      },
      "execution_count": null,
      "outputs": []
    },
    {
      "cell_type": "code",
      "source": [
        "# =============================================================================\n",
        "# Browser and User Signups - Contingency Tables\n",
        "# =============================================================================\n",
        "browser_tab = pd.crosstab(df['browser_rev'],\n",
        "\t\t\t\t\t\t\tdf['user_signups'],\n",
        "\t\t\t\t\t\t\tmargins = True\n",
        ")\n",
        "print(browser_tab)"
      ],
      "metadata": {
        "id": "Wdb5Pzd6Rhzn",
        "colab": {
          "base_uri": "https://localhost:8080/"
        },
        "outputId": "82fb0c75-8ccd-43de-948c-9a93ab7bf83e"
      },
      "execution_count": null,
      "outputs": [
        {
          "output_type": "stream",
          "name": "stdout",
          "text": [
            "user_signups       0     1     All\n",
            "browser_rev                       \n",
            "desktop_web    81503   766   82269\n",
            "mobile_web    445161  7961  453122\n",
            "All           526664  8727  535391\n"
          ]
        }
      ]
    },
    {
      "cell_type": "code",
      "source": [
        "# =============================================================================\n",
        "# Browser and User Signups - Expected Values\n",
        "# =============================================================================\n",
        "browser_tab.columns = [\"no\", \"yes\", \"row_totals\"]\n",
        "browser_tab.index = [\"desktop_web\", \"mobile_web\", \"col_totals\"]\n",
        "browser_observed = browser_tab.iloc[0:2,0:2]\n",
        "browser_expected =  np.outer(browser_tab[\"row_totals\"][0:2],\n",
        "                     browser_tab.loc[\"col_totals\"][0:2]) / 535391\n",
        "\n",
        "browser_expected = pd.DataFrame(browser_expected)\n",
        "\n",
        "browser_expected.columns = [\"no\",\"yes\"]\n",
        "browser_expected.index = [\"desktop_web\",\"mobile_web\"]\n",
        "\n",
        "browser_expected"
      ],
      "metadata": {
        "id": "xpcyDbK9Rhu7",
        "colab": {
          "base_uri": "https://localhost:8080/",
          "height": 165
        },
        "outputId": "65c7ef14-683c-4b87-9ac5-6551146224e8"
      },
      "execution_count": null,
      "outputs": [
        {
          "output_type": "execute_result",
          "data": {
            "text/plain": [
              "                        no          yes\n",
              "desktop_web   80927.995831  1341.004169\n",
              "mobile_web   445736.004169  7385.995831"
            ],
            "text/html": [
              "\n",
              "  <div id=\"df-3ac68c51-47bb-4c09-9aec-e456701dd204\" class=\"colab-df-container\">\n",
              "    <div>\n",
              "<style scoped>\n",
              "    .dataframe tbody tr th:only-of-type {\n",
              "        vertical-align: middle;\n",
              "    }\n",
              "\n",
              "    .dataframe tbody tr th {\n",
              "        vertical-align: top;\n",
              "    }\n",
              "\n",
              "    .dataframe thead th {\n",
              "        text-align: right;\n",
              "    }\n",
              "</style>\n",
              "<table border=\"1\" class=\"dataframe\">\n",
              "  <thead>\n",
              "    <tr style=\"text-align: right;\">\n",
              "      <th></th>\n",
              "      <th>no</th>\n",
              "      <th>yes</th>\n",
              "    </tr>\n",
              "  </thead>\n",
              "  <tbody>\n",
              "    <tr>\n",
              "      <th>desktop_web</th>\n",
              "      <td>80927.995831</td>\n",
              "      <td>1341.004169</td>\n",
              "    </tr>\n",
              "    <tr>\n",
              "      <th>mobile_web</th>\n",
              "      <td>445736.004169</td>\n",
              "      <td>7385.995831</td>\n",
              "    </tr>\n",
              "  </tbody>\n",
              "</table>\n",
              "</div>\n",
              "    <div class=\"colab-df-buttons\">\n",
              "\n",
              "  <div class=\"colab-df-container\">\n",
              "    <button class=\"colab-df-convert\" onclick=\"convertToInteractive('df-3ac68c51-47bb-4c09-9aec-e456701dd204')\"\n",
              "            title=\"Convert this dataframe to an interactive table.\"\n",
              "            style=\"display:none;\">\n",
              "\n",
              "  <svg xmlns=\"http://www.w3.org/2000/svg\" height=\"24px\" viewBox=\"0 -960 960 960\">\n",
              "    <path d=\"M120-120v-720h720v720H120Zm60-500h600v-160H180v160Zm220 220h160v-160H400v160Zm0 220h160v-160H400v160ZM180-400h160v-160H180v160Zm440 0h160v-160H620v160ZM180-180h160v-160H180v160Zm440 0h160v-160H620v160Z\"/>\n",
              "  </svg>\n",
              "    </button>\n",
              "\n",
              "  <style>\n",
              "    .colab-df-container {\n",
              "      display:flex;\n",
              "      gap: 12px;\n",
              "    }\n",
              "\n",
              "    .colab-df-convert {\n",
              "      background-color: #E8F0FE;\n",
              "      border: none;\n",
              "      border-radius: 50%;\n",
              "      cursor: pointer;\n",
              "      display: none;\n",
              "      fill: #1967D2;\n",
              "      height: 32px;\n",
              "      padding: 0 0 0 0;\n",
              "      width: 32px;\n",
              "    }\n",
              "\n",
              "    .colab-df-convert:hover {\n",
              "      background-color: #E2EBFA;\n",
              "      box-shadow: 0px 1px 2px rgba(60, 64, 67, 0.3), 0px 1px 3px 1px rgba(60, 64, 67, 0.15);\n",
              "      fill: #174EA6;\n",
              "    }\n",
              "\n",
              "    .colab-df-buttons div {\n",
              "      margin-bottom: 4px;\n",
              "    }\n",
              "\n",
              "    [theme=dark] .colab-df-convert {\n",
              "      background-color: #3B4455;\n",
              "      fill: #D2E3FC;\n",
              "    }\n",
              "\n",
              "    [theme=dark] .colab-df-convert:hover {\n",
              "      background-color: #434B5C;\n",
              "      box-shadow: 0px 1px 3px 1px rgba(0, 0, 0, 0.15);\n",
              "      filter: drop-shadow(0px 1px 2px rgba(0, 0, 0, 0.3));\n",
              "      fill: #FFFFFF;\n",
              "    }\n",
              "  </style>\n",
              "\n",
              "    <script>\n",
              "      const buttonEl =\n",
              "        document.querySelector('#df-3ac68c51-47bb-4c09-9aec-e456701dd204 button.colab-df-convert');\n",
              "      buttonEl.style.display =\n",
              "        google.colab.kernel.accessAllowed ? 'block' : 'none';\n",
              "\n",
              "      async function convertToInteractive(key) {\n",
              "        const element = document.querySelector('#df-3ac68c51-47bb-4c09-9aec-e456701dd204');\n",
              "        const dataTable =\n",
              "          await google.colab.kernel.invokeFunction('convertToInteractive',\n",
              "                                                    [key], {});\n",
              "        if (!dataTable) return;\n",
              "\n",
              "        const docLinkHtml = 'Like what you see? Visit the ' +\n",
              "          '<a target=\"_blank\" href=https://colab.research.google.com/notebooks/data_table.ipynb>data table notebook</a>'\n",
              "          + ' to learn more about interactive tables.';\n",
              "        element.innerHTML = '';\n",
              "        dataTable['output_type'] = 'display_data';\n",
              "        await google.colab.output.renderOutput(dataTable, element);\n",
              "        const docLink = document.createElement('div');\n",
              "        docLink.innerHTML = docLinkHtml;\n",
              "        element.appendChild(docLink);\n",
              "      }\n",
              "    </script>\n",
              "  </div>\n",
              "\n",
              "\n",
              "<div id=\"df-e343a251-c683-4ba5-a2d9-5917f744cc3d\">\n",
              "  <button class=\"colab-df-quickchart\" onclick=\"quickchart('df-e343a251-c683-4ba5-a2d9-5917f744cc3d')\"\n",
              "            title=\"Suggest charts\"\n",
              "            style=\"display:none;\">\n",
              "\n",
              "<svg xmlns=\"http://www.w3.org/2000/svg\" height=\"24px\"viewBox=\"0 0 24 24\"\n",
              "     width=\"24px\">\n",
              "    <g>\n",
              "        <path d=\"M19 3H5c-1.1 0-2 .9-2 2v14c0 1.1.9 2 2 2h14c1.1 0 2-.9 2-2V5c0-1.1-.9-2-2-2zM9 17H7v-7h2v7zm4 0h-2V7h2v10zm4 0h-2v-4h2v4z\"/>\n",
              "    </g>\n",
              "</svg>\n",
              "  </button>\n",
              "\n",
              "<style>\n",
              "  .colab-df-quickchart {\n",
              "      --bg-color: #E8F0FE;\n",
              "      --fill-color: #1967D2;\n",
              "      --hover-bg-color: #E2EBFA;\n",
              "      --hover-fill-color: #174EA6;\n",
              "      --disabled-fill-color: #AAA;\n",
              "      --disabled-bg-color: #DDD;\n",
              "  }\n",
              "\n",
              "  [theme=dark] .colab-df-quickchart {\n",
              "      --bg-color: #3B4455;\n",
              "      --fill-color: #D2E3FC;\n",
              "      --hover-bg-color: #434B5C;\n",
              "      --hover-fill-color: #FFFFFF;\n",
              "      --disabled-bg-color: #3B4455;\n",
              "      --disabled-fill-color: #666;\n",
              "  }\n",
              "\n",
              "  .colab-df-quickchart {\n",
              "    background-color: var(--bg-color);\n",
              "    border: none;\n",
              "    border-radius: 50%;\n",
              "    cursor: pointer;\n",
              "    display: none;\n",
              "    fill: var(--fill-color);\n",
              "    height: 32px;\n",
              "    padding: 0;\n",
              "    width: 32px;\n",
              "  }\n",
              "\n",
              "  .colab-df-quickchart:hover {\n",
              "    background-color: var(--hover-bg-color);\n",
              "    box-shadow: 0 1px 2px rgba(60, 64, 67, 0.3), 0 1px 3px 1px rgba(60, 64, 67, 0.15);\n",
              "    fill: var(--button-hover-fill-color);\n",
              "  }\n",
              "\n",
              "  .colab-df-quickchart-complete:disabled,\n",
              "  .colab-df-quickchart-complete:disabled:hover {\n",
              "    background-color: var(--disabled-bg-color);\n",
              "    fill: var(--disabled-fill-color);\n",
              "    box-shadow: none;\n",
              "  }\n",
              "\n",
              "  .colab-df-spinner {\n",
              "    border: 2px solid var(--fill-color);\n",
              "    border-color: transparent;\n",
              "    border-bottom-color: var(--fill-color);\n",
              "    animation:\n",
              "      spin 1s steps(1) infinite;\n",
              "  }\n",
              "\n",
              "  @keyframes spin {\n",
              "    0% {\n",
              "      border-color: transparent;\n",
              "      border-bottom-color: var(--fill-color);\n",
              "      border-left-color: var(--fill-color);\n",
              "    }\n",
              "    20% {\n",
              "      border-color: transparent;\n",
              "      border-left-color: var(--fill-color);\n",
              "      border-top-color: var(--fill-color);\n",
              "    }\n",
              "    30% {\n",
              "      border-color: transparent;\n",
              "      border-left-color: var(--fill-color);\n",
              "      border-top-color: var(--fill-color);\n",
              "      border-right-color: var(--fill-color);\n",
              "    }\n",
              "    40% {\n",
              "      border-color: transparent;\n",
              "      border-right-color: var(--fill-color);\n",
              "      border-top-color: var(--fill-color);\n",
              "    }\n",
              "    60% {\n",
              "      border-color: transparent;\n",
              "      border-right-color: var(--fill-color);\n",
              "    }\n",
              "    80% {\n",
              "      border-color: transparent;\n",
              "      border-right-color: var(--fill-color);\n",
              "      border-bottom-color: var(--fill-color);\n",
              "    }\n",
              "    90% {\n",
              "      border-color: transparent;\n",
              "      border-bottom-color: var(--fill-color);\n",
              "    }\n",
              "  }\n",
              "</style>\n",
              "\n",
              "  <script>\n",
              "    async function quickchart(key) {\n",
              "      const quickchartButtonEl =\n",
              "        document.querySelector('#' + key + ' button');\n",
              "      quickchartButtonEl.disabled = true;  // To prevent multiple clicks.\n",
              "      quickchartButtonEl.classList.add('colab-df-spinner');\n",
              "      try {\n",
              "        const charts = await google.colab.kernel.invokeFunction(\n",
              "            'suggestCharts', [key], {});\n",
              "      } catch (error) {\n",
              "        console.error('Error during call to suggestCharts:', error);\n",
              "      }\n",
              "      quickchartButtonEl.classList.remove('colab-df-spinner');\n",
              "      quickchartButtonEl.classList.add('colab-df-quickchart-complete');\n",
              "    }\n",
              "    (() => {\n",
              "      let quickchartButtonEl =\n",
              "        document.querySelector('#df-e343a251-c683-4ba5-a2d9-5917f744cc3d button');\n",
              "      quickchartButtonEl.style.display =\n",
              "        google.colab.kernel.accessAllowed ? 'block' : 'none';\n",
              "    })();\n",
              "  </script>\n",
              "</div>\n",
              "\n",
              "  <div id=\"id_a6804a68-bd07-4bee-8740-ec0cf830dc4e\">\n",
              "    <style>\n",
              "      .colab-df-generate {\n",
              "        background-color: #E8F0FE;\n",
              "        border: none;\n",
              "        border-radius: 50%;\n",
              "        cursor: pointer;\n",
              "        display: none;\n",
              "        fill: #1967D2;\n",
              "        height: 32px;\n",
              "        padding: 0 0 0 0;\n",
              "        width: 32px;\n",
              "      }\n",
              "\n",
              "      .colab-df-generate:hover {\n",
              "        background-color: #E2EBFA;\n",
              "        box-shadow: 0px 1px 2px rgba(60, 64, 67, 0.3), 0px 1px 3px 1px rgba(60, 64, 67, 0.15);\n",
              "        fill: #174EA6;\n",
              "      }\n",
              "\n",
              "      [theme=dark] .colab-df-generate {\n",
              "        background-color: #3B4455;\n",
              "        fill: #D2E3FC;\n",
              "      }\n",
              "\n",
              "      [theme=dark] .colab-df-generate:hover {\n",
              "        background-color: #434B5C;\n",
              "        box-shadow: 0px 1px 3px 1px rgba(0, 0, 0, 0.15);\n",
              "        filter: drop-shadow(0px 1px 2px rgba(0, 0, 0, 0.3));\n",
              "        fill: #FFFFFF;\n",
              "      }\n",
              "    </style>\n",
              "    <button class=\"colab-df-generate\" onclick=\"generateWithVariable('browser_expected')\"\n",
              "            title=\"Generate code using this dataframe.\"\n",
              "            style=\"display:none;\">\n",
              "\n",
              "  <svg xmlns=\"http://www.w3.org/2000/svg\" height=\"24px\"viewBox=\"0 0 24 24\"\n",
              "       width=\"24px\">\n",
              "    <path d=\"M7,19H8.4L18.45,9,17,7.55,7,17.6ZM5,21V16.75L18.45,3.32a2,2,0,0,1,2.83,0l1.4,1.43a1.91,1.91,0,0,1,.58,1.4,1.91,1.91,0,0,1-.58,1.4L9.25,21ZM18.45,9,17,7.55Zm-12,3A5.31,5.31,0,0,0,4.9,8.1,5.31,5.31,0,0,0,1,6.5,5.31,5.31,0,0,0,4.9,4.9,5.31,5.31,0,0,0,6.5,1,5.31,5.31,0,0,0,8.1,4.9,5.31,5.31,0,0,0,12,6.5,5.46,5.46,0,0,0,6.5,12Z\"/>\n",
              "  </svg>\n",
              "    </button>\n",
              "    <script>\n",
              "      (() => {\n",
              "      const buttonEl =\n",
              "        document.querySelector('#id_a6804a68-bd07-4bee-8740-ec0cf830dc4e button.colab-df-generate');\n",
              "      buttonEl.style.display =\n",
              "        google.colab.kernel.accessAllowed ? 'block' : 'none';\n",
              "\n",
              "      buttonEl.onclick = () => {\n",
              "        google.colab.notebook.generateWithVariable('browser_expected');\n",
              "      }\n",
              "      })();\n",
              "    </script>\n",
              "  </div>\n",
              "\n",
              "    </div>\n",
              "  </div>\n"
            ],
            "application/vnd.google.colaboratory.intrinsic+json": {
              "type": "dataframe",
              "variable_name": "browser_expected",
              "summary": "{\n  \"name\": \"browser_expected\",\n  \"rows\": 2,\n  \"fields\": [\n    {\n      \"column\": \"no\",\n      \"properties\": {\n        \"dtype\": \"number\",\n        \"std\": 257958.2165268393,\n        \"min\": 80927.9958310842,\n        \"max\": 445736.0041689158,\n        \"num_unique_values\": 2,\n        \"samples\": [\n          445736.0041689158,\n          80927.9958310842\n        ],\n        \"semantic_type\": \"\",\n        \"description\": \"\"\n      }\n    },\n    {\n      \"column\": \"yes\",\n      \"properties\": {\n        \"dtype\": \"number\",\n        \"std\": 4274.454596535413,\n        \"min\": 1341.0041689158018,\n        \"max\": 7385.9958310841985,\n        \"num_unique_values\": 2,\n        \"samples\": [\n          7385.9958310841985,\n          1341.0041689158018\n        ],\n        \"semantic_type\": \"\",\n        \"description\": \"\"\n      }\n    }\n  ]\n}"
            },
            "application/vnd.google.colaboratory.module+javascript": "\n      import \"https://ssl.gstatic.com/colaboratory/data_table/881c4a0d49046431/data_table.js\";\n\n      const table = window.createDataTable({\n        data: [[\"desktop_web\",\n{\n            'v': 80927.9958310842,\n            'f': \"80927.9958310842\",\n        },\n{\n            'v': 1341.0041689158018,\n            'f': \"1341.0041689158018\",\n        }],\n [\"mobile_web\",\n{\n            'v': 445736.0041689158,\n            'f': \"445736.0041689158\",\n        },\n{\n            'v': 7385.9958310841985,\n            'f': \"7385.9958310841985\",\n        }]],\n        columns: [[\"string\", \"index\"], [\"number\", \"no\"], [\"number\", \"yes\"]],\n        columnOptions: [{\"width\": \"1px\", \"className\": \"index_column\"}],\n        rowsPerPage: 25,\n        helpUrl: \"https://colab.research.google.com/notebooks/data_table.ipynb\",\n        suppressOutputScrolling: true,\n        minimumWidth: undefined,\n      });\n\n      function appendQuickchartButton(parentElement) {\n        let quickchartButtonContainerElement = document.createElement('div');\n        quickchartButtonContainerElement.innerHTML = `\n<div id=\"df-1a1f27b8-65d9-4935-a2ac-ad5de562e453\">\n  <button class=\"colab-df-quickchart\" onclick=\"quickchart('df-1a1f27b8-65d9-4935-a2ac-ad5de562e453')\"\n            title=\"Suggest charts\"\n            style=\"display:none;\">\n    \n<svg xmlns=\"http://www.w3.org/2000/svg\" height=\"24px\"viewBox=\"0 0 24 24\"\n     width=\"24px\">\n    <g>\n        <path d=\"M19 3H5c-1.1 0-2 .9-2 2v14c0 1.1.9 2 2 2h14c1.1 0 2-.9 2-2V5c0-1.1-.9-2-2-2zM9 17H7v-7h2v7zm4 0h-2V7h2v10zm4 0h-2v-4h2v4z\"/>\n    </g>\n</svg>\n  </button>\n  \n<style>\n  .colab-df-quickchart {\n      --bg-color: #E8F0FE;\n      --fill-color: #1967D2;\n      --hover-bg-color: #E2EBFA;\n      --hover-fill-color: #174EA6;\n      --disabled-fill-color: #AAA;\n      --disabled-bg-color: #DDD;\n  }\n\n  [theme=dark] .colab-df-quickchart {\n      --bg-color: #3B4455;\n      --fill-color: #D2E3FC;\n      --hover-bg-color: #434B5C;\n      --hover-fill-color: #FFFFFF;\n      --disabled-bg-color: #3B4455;\n      --disabled-fill-color: #666;\n  }\n\n  .colab-df-quickchart {\n    background-color: var(--bg-color);\n    border: none;\n    border-radius: 50%;\n    cursor: pointer;\n    display: none;\n    fill: var(--fill-color);\n    height: 32px;\n    padding: 0;\n    width: 32px;\n  }\n\n  .colab-df-quickchart:hover {\n    background-color: var(--hover-bg-color);\n    box-shadow: 0 1px 2px rgba(60, 64, 67, 0.3), 0 1px 3px 1px rgba(60, 64, 67, 0.15);\n    fill: var(--button-hover-fill-color);\n  }\n\n  .colab-df-quickchart-complete:disabled,\n  .colab-df-quickchart-complete:disabled:hover {\n    background-color: var(--disabled-bg-color);\n    fill: var(--disabled-fill-color);\n    box-shadow: none;\n  }\n\n  .colab-df-spinner {\n    border: 2px solid var(--fill-color);\n    border-color: transparent;\n    border-bottom-color: var(--fill-color);\n    animation:\n      spin 1s steps(1) infinite;\n  }\n\n  @keyframes spin {\n    0% {\n      border-color: transparent;\n      border-bottom-color: var(--fill-color);\n      border-left-color: var(--fill-color);\n    }\n    20% {\n      border-color: transparent;\n      border-left-color: var(--fill-color);\n      border-top-color: var(--fill-color);\n    }\n    30% {\n      border-color: transparent;\n      border-left-color: var(--fill-color);\n      border-top-color: var(--fill-color);\n      border-right-color: var(--fill-color);\n    }\n    40% {\n      border-color: transparent;\n      border-right-color: var(--fill-color);\n      border-top-color: var(--fill-color);\n    }\n    60% {\n      border-color: transparent;\n      border-right-color: var(--fill-color);\n    }\n    80% {\n      border-color: transparent;\n      border-right-color: var(--fill-color);\n      border-bottom-color: var(--fill-color);\n    }\n    90% {\n      border-color: transparent;\n      border-bottom-color: var(--fill-color);\n    }\n  }\n</style>\n\n  <script>\n    async function quickchart(key) {\n      const quickchartButtonEl =\n        document.querySelector('#' + key + ' button');\n      quickchartButtonEl.disabled = true;  // To prevent multiple clicks.\n      quickchartButtonEl.classList.add('colab-df-spinner');\n      try {\n        const charts = await google.colab.kernel.invokeFunction(\n            'suggestCharts', [key], {});\n      } catch (error) {\n        console.error('Error during call to suggestCharts:', error);\n      }\n      quickchartButtonEl.classList.remove('colab-df-spinner');\n      quickchartButtonEl.classList.add('colab-df-quickchart-complete');\n    }\n    (() => {\n      let quickchartButtonEl =\n        document.querySelector('#df-1a1f27b8-65d9-4935-a2ac-ad5de562e453 button');\n      quickchartButtonEl.style.display =\n        google.colab.kernel.accessAllowed ? 'block' : 'none';\n    })();\n  </script>\n</div>`;\n        parentElement.appendChild(quickchartButtonContainerElement);\n      }\n\n      appendQuickchartButton(table);\n    "
          },
          "metadata": {},
          "execution_count": 10
        }
      ]
    },
    {
      "cell_type": "code",
      "source": [
        "browser_observed"
      ],
      "metadata": {
        "colab": {
          "base_uri": "https://localhost:8080/",
          "height": 165
        },
        "id": "wevb2fzi3ckQ",
        "outputId": "8127d007-9bd9-4a29-fe0e-f403c84d7019"
      },
      "execution_count": null,
      "outputs": [
        {
          "output_type": "execute_result",
          "data": {
            "text/plain": [
              "                 no   yes\n",
              "desktop_web   81503   766\n",
              "mobile_web   445161  7961"
            ],
            "text/html": [
              "\n",
              "  <div id=\"df-bdb78120-f5ef-4672-a9d4-28d7226eba1c\" class=\"colab-df-container\">\n",
              "    <div>\n",
              "<style scoped>\n",
              "    .dataframe tbody tr th:only-of-type {\n",
              "        vertical-align: middle;\n",
              "    }\n",
              "\n",
              "    .dataframe tbody tr th {\n",
              "        vertical-align: top;\n",
              "    }\n",
              "\n",
              "    .dataframe thead th {\n",
              "        text-align: right;\n",
              "    }\n",
              "</style>\n",
              "<table border=\"1\" class=\"dataframe\">\n",
              "  <thead>\n",
              "    <tr style=\"text-align: right;\">\n",
              "      <th></th>\n",
              "      <th>no</th>\n",
              "      <th>yes</th>\n",
              "    </tr>\n",
              "  </thead>\n",
              "  <tbody>\n",
              "    <tr>\n",
              "      <th>desktop_web</th>\n",
              "      <td>81503</td>\n",
              "      <td>766</td>\n",
              "    </tr>\n",
              "    <tr>\n",
              "      <th>mobile_web</th>\n",
              "      <td>445161</td>\n",
              "      <td>7961</td>\n",
              "    </tr>\n",
              "  </tbody>\n",
              "</table>\n",
              "</div>\n",
              "    <div class=\"colab-df-buttons\">\n",
              "\n",
              "  <div class=\"colab-df-container\">\n",
              "    <button class=\"colab-df-convert\" onclick=\"convertToInteractive('df-bdb78120-f5ef-4672-a9d4-28d7226eba1c')\"\n",
              "            title=\"Convert this dataframe to an interactive table.\"\n",
              "            style=\"display:none;\">\n",
              "\n",
              "  <svg xmlns=\"http://www.w3.org/2000/svg\" height=\"24px\" viewBox=\"0 -960 960 960\">\n",
              "    <path d=\"M120-120v-720h720v720H120Zm60-500h600v-160H180v160Zm220 220h160v-160H400v160Zm0 220h160v-160H400v160ZM180-400h160v-160H180v160Zm440 0h160v-160H620v160ZM180-180h160v-160H180v160Zm440 0h160v-160H620v160Z\"/>\n",
              "  </svg>\n",
              "    </button>\n",
              "\n",
              "  <style>\n",
              "    .colab-df-container {\n",
              "      display:flex;\n",
              "      gap: 12px;\n",
              "    }\n",
              "\n",
              "    .colab-df-convert {\n",
              "      background-color: #E8F0FE;\n",
              "      border: none;\n",
              "      border-radius: 50%;\n",
              "      cursor: pointer;\n",
              "      display: none;\n",
              "      fill: #1967D2;\n",
              "      height: 32px;\n",
              "      padding: 0 0 0 0;\n",
              "      width: 32px;\n",
              "    }\n",
              "\n",
              "    .colab-df-convert:hover {\n",
              "      background-color: #E2EBFA;\n",
              "      box-shadow: 0px 1px 2px rgba(60, 64, 67, 0.3), 0px 1px 3px 1px rgba(60, 64, 67, 0.15);\n",
              "      fill: #174EA6;\n",
              "    }\n",
              "\n",
              "    .colab-df-buttons div {\n",
              "      margin-bottom: 4px;\n",
              "    }\n",
              "\n",
              "    [theme=dark] .colab-df-convert {\n",
              "      background-color: #3B4455;\n",
              "      fill: #D2E3FC;\n",
              "    }\n",
              "\n",
              "    [theme=dark] .colab-df-convert:hover {\n",
              "      background-color: #434B5C;\n",
              "      box-shadow: 0px 1px 3px 1px rgba(0, 0, 0, 0.15);\n",
              "      filter: drop-shadow(0px 1px 2px rgba(0, 0, 0, 0.3));\n",
              "      fill: #FFFFFF;\n",
              "    }\n",
              "  </style>\n",
              "\n",
              "    <script>\n",
              "      const buttonEl =\n",
              "        document.querySelector('#df-bdb78120-f5ef-4672-a9d4-28d7226eba1c button.colab-df-convert');\n",
              "      buttonEl.style.display =\n",
              "        google.colab.kernel.accessAllowed ? 'block' : 'none';\n",
              "\n",
              "      async function convertToInteractive(key) {\n",
              "        const element = document.querySelector('#df-bdb78120-f5ef-4672-a9d4-28d7226eba1c');\n",
              "        const dataTable =\n",
              "          await google.colab.kernel.invokeFunction('convertToInteractive',\n",
              "                                                    [key], {});\n",
              "        if (!dataTable) return;\n",
              "\n",
              "        const docLinkHtml = 'Like what you see? Visit the ' +\n",
              "          '<a target=\"_blank\" href=https://colab.research.google.com/notebooks/data_table.ipynb>data table notebook</a>'\n",
              "          + ' to learn more about interactive tables.';\n",
              "        element.innerHTML = '';\n",
              "        dataTable['output_type'] = 'display_data';\n",
              "        await google.colab.output.renderOutput(dataTable, element);\n",
              "        const docLink = document.createElement('div');\n",
              "        docLink.innerHTML = docLinkHtml;\n",
              "        element.appendChild(docLink);\n",
              "      }\n",
              "    </script>\n",
              "  </div>\n",
              "\n",
              "\n",
              "<div id=\"df-d422cd4d-fd3f-45b9-9eb6-f033e0ae3a33\">\n",
              "  <button class=\"colab-df-quickchart\" onclick=\"quickchart('df-d422cd4d-fd3f-45b9-9eb6-f033e0ae3a33')\"\n",
              "            title=\"Suggest charts\"\n",
              "            style=\"display:none;\">\n",
              "\n",
              "<svg xmlns=\"http://www.w3.org/2000/svg\" height=\"24px\"viewBox=\"0 0 24 24\"\n",
              "     width=\"24px\">\n",
              "    <g>\n",
              "        <path d=\"M19 3H5c-1.1 0-2 .9-2 2v14c0 1.1.9 2 2 2h14c1.1 0 2-.9 2-2V5c0-1.1-.9-2-2-2zM9 17H7v-7h2v7zm4 0h-2V7h2v10zm4 0h-2v-4h2v4z\"/>\n",
              "    </g>\n",
              "</svg>\n",
              "  </button>\n",
              "\n",
              "<style>\n",
              "  .colab-df-quickchart {\n",
              "      --bg-color: #E8F0FE;\n",
              "      --fill-color: #1967D2;\n",
              "      --hover-bg-color: #E2EBFA;\n",
              "      --hover-fill-color: #174EA6;\n",
              "      --disabled-fill-color: #AAA;\n",
              "      --disabled-bg-color: #DDD;\n",
              "  }\n",
              "\n",
              "  [theme=dark] .colab-df-quickchart {\n",
              "      --bg-color: #3B4455;\n",
              "      --fill-color: #D2E3FC;\n",
              "      --hover-bg-color: #434B5C;\n",
              "      --hover-fill-color: #FFFFFF;\n",
              "      --disabled-bg-color: #3B4455;\n",
              "      --disabled-fill-color: #666;\n",
              "  }\n",
              "\n",
              "  .colab-df-quickchart {\n",
              "    background-color: var(--bg-color);\n",
              "    border: none;\n",
              "    border-radius: 50%;\n",
              "    cursor: pointer;\n",
              "    display: none;\n",
              "    fill: var(--fill-color);\n",
              "    height: 32px;\n",
              "    padding: 0;\n",
              "    width: 32px;\n",
              "  }\n",
              "\n",
              "  .colab-df-quickchart:hover {\n",
              "    background-color: var(--hover-bg-color);\n",
              "    box-shadow: 0 1px 2px rgba(60, 64, 67, 0.3), 0 1px 3px 1px rgba(60, 64, 67, 0.15);\n",
              "    fill: var(--button-hover-fill-color);\n",
              "  }\n",
              "\n",
              "  .colab-df-quickchart-complete:disabled,\n",
              "  .colab-df-quickchart-complete:disabled:hover {\n",
              "    background-color: var(--disabled-bg-color);\n",
              "    fill: var(--disabled-fill-color);\n",
              "    box-shadow: none;\n",
              "  }\n",
              "\n",
              "  .colab-df-spinner {\n",
              "    border: 2px solid var(--fill-color);\n",
              "    border-color: transparent;\n",
              "    border-bottom-color: var(--fill-color);\n",
              "    animation:\n",
              "      spin 1s steps(1) infinite;\n",
              "  }\n",
              "\n",
              "  @keyframes spin {\n",
              "    0% {\n",
              "      border-color: transparent;\n",
              "      border-bottom-color: var(--fill-color);\n",
              "      border-left-color: var(--fill-color);\n",
              "    }\n",
              "    20% {\n",
              "      border-color: transparent;\n",
              "      border-left-color: var(--fill-color);\n",
              "      border-top-color: var(--fill-color);\n",
              "    }\n",
              "    30% {\n",
              "      border-color: transparent;\n",
              "      border-left-color: var(--fill-color);\n",
              "      border-top-color: var(--fill-color);\n",
              "      border-right-color: var(--fill-color);\n",
              "    }\n",
              "    40% {\n",
              "      border-color: transparent;\n",
              "      border-right-color: var(--fill-color);\n",
              "      border-top-color: var(--fill-color);\n",
              "    }\n",
              "    60% {\n",
              "      border-color: transparent;\n",
              "      border-right-color: var(--fill-color);\n",
              "    }\n",
              "    80% {\n",
              "      border-color: transparent;\n",
              "      border-right-color: var(--fill-color);\n",
              "      border-bottom-color: var(--fill-color);\n",
              "    }\n",
              "    90% {\n",
              "      border-color: transparent;\n",
              "      border-bottom-color: var(--fill-color);\n",
              "    }\n",
              "  }\n",
              "</style>\n",
              "\n",
              "  <script>\n",
              "    async function quickchart(key) {\n",
              "      const quickchartButtonEl =\n",
              "        document.querySelector('#' + key + ' button');\n",
              "      quickchartButtonEl.disabled = true;  // To prevent multiple clicks.\n",
              "      quickchartButtonEl.classList.add('colab-df-spinner');\n",
              "      try {\n",
              "        const charts = await google.colab.kernel.invokeFunction(\n",
              "            'suggestCharts', [key], {});\n",
              "      } catch (error) {\n",
              "        console.error('Error during call to suggestCharts:', error);\n",
              "      }\n",
              "      quickchartButtonEl.classList.remove('colab-df-spinner');\n",
              "      quickchartButtonEl.classList.add('colab-df-quickchart-complete');\n",
              "    }\n",
              "    (() => {\n",
              "      let quickchartButtonEl =\n",
              "        document.querySelector('#df-d422cd4d-fd3f-45b9-9eb6-f033e0ae3a33 button');\n",
              "      quickchartButtonEl.style.display =\n",
              "        google.colab.kernel.accessAllowed ? 'block' : 'none';\n",
              "    })();\n",
              "  </script>\n",
              "</div>\n",
              "\n",
              "  <div id=\"id_67f2a443-fe5c-4fc3-a6f0-35251da79f79\">\n",
              "    <style>\n",
              "      .colab-df-generate {\n",
              "        background-color: #E8F0FE;\n",
              "        border: none;\n",
              "        border-radius: 50%;\n",
              "        cursor: pointer;\n",
              "        display: none;\n",
              "        fill: #1967D2;\n",
              "        height: 32px;\n",
              "        padding: 0 0 0 0;\n",
              "        width: 32px;\n",
              "      }\n",
              "\n",
              "      .colab-df-generate:hover {\n",
              "        background-color: #E2EBFA;\n",
              "        box-shadow: 0px 1px 2px rgba(60, 64, 67, 0.3), 0px 1px 3px 1px rgba(60, 64, 67, 0.15);\n",
              "        fill: #174EA6;\n",
              "      }\n",
              "\n",
              "      [theme=dark] .colab-df-generate {\n",
              "        background-color: #3B4455;\n",
              "        fill: #D2E3FC;\n",
              "      }\n",
              "\n",
              "      [theme=dark] .colab-df-generate:hover {\n",
              "        background-color: #434B5C;\n",
              "        box-shadow: 0px 1px 3px 1px rgba(0, 0, 0, 0.15);\n",
              "        filter: drop-shadow(0px 1px 2px rgba(0, 0, 0, 0.3));\n",
              "        fill: #FFFFFF;\n",
              "      }\n",
              "    </style>\n",
              "    <button class=\"colab-df-generate\" onclick=\"generateWithVariable('browser_observed')\"\n",
              "            title=\"Generate code using this dataframe.\"\n",
              "            style=\"display:none;\">\n",
              "\n",
              "  <svg xmlns=\"http://www.w3.org/2000/svg\" height=\"24px\"viewBox=\"0 0 24 24\"\n",
              "       width=\"24px\">\n",
              "    <path d=\"M7,19H8.4L18.45,9,17,7.55,7,17.6ZM5,21V16.75L18.45,3.32a2,2,0,0,1,2.83,0l1.4,1.43a1.91,1.91,0,0,1,.58,1.4,1.91,1.91,0,0,1-.58,1.4L9.25,21ZM18.45,9,17,7.55Zm-12,3A5.31,5.31,0,0,0,4.9,8.1,5.31,5.31,0,0,0,1,6.5,5.31,5.31,0,0,0,4.9,4.9,5.31,5.31,0,0,0,6.5,1,5.31,5.31,0,0,0,8.1,4.9,5.31,5.31,0,0,0,12,6.5,5.46,5.46,0,0,0,6.5,12Z\"/>\n",
              "  </svg>\n",
              "    </button>\n",
              "    <script>\n",
              "      (() => {\n",
              "      const buttonEl =\n",
              "        document.querySelector('#id_67f2a443-fe5c-4fc3-a6f0-35251da79f79 button.colab-df-generate');\n",
              "      buttonEl.style.display =\n",
              "        google.colab.kernel.accessAllowed ? 'block' : 'none';\n",
              "\n",
              "      buttonEl.onclick = () => {\n",
              "        google.colab.notebook.generateWithVariable('browser_observed');\n",
              "      }\n",
              "      })();\n",
              "    </script>\n",
              "  </div>\n",
              "\n",
              "    </div>\n",
              "  </div>\n"
            ],
            "application/vnd.google.colaboratory.intrinsic+json": {
              "type": "dataframe",
              "variable_name": "browser_observed",
              "summary": "{\n  \"name\": \"browser_observed\",\n  \"rows\": 2,\n  \"fields\": [\n    {\n      \"column\": \"no\",\n      \"properties\": {\n        \"dtype\": \"number\",\n        \"std\": 257145,\n        \"min\": 81503,\n        \"max\": 445161,\n        \"num_unique_values\": 2,\n        \"samples\": [\n          445161,\n          81503\n        ],\n        \"semantic_type\": \"\",\n        \"description\": \"\"\n      }\n    },\n    {\n      \"column\": \"yes\",\n      \"properties\": {\n        \"dtype\": \"number\",\n        \"std\": 5087,\n        \"min\": 766,\n        \"max\": 7961,\n        \"num_unique_values\": 2,\n        \"samples\": [\n          7961,\n          766\n        ],\n        \"semantic_type\": \"\",\n        \"description\": \"\"\n      }\n    }\n  ]\n}"
            },
            "application/vnd.google.colaboratory.module+javascript": "\n      import \"https://ssl.gstatic.com/colaboratory/data_table/881c4a0d49046431/data_table.js\";\n\n      const table = window.createDataTable({\n        data: [[\"desktop_web\",\n{\n            'v': 81503,\n            'f': \"81503\",\n        },\n{\n            'v': 766,\n            'f': \"766\",\n        }],\n [\"mobile_web\",\n{\n            'v': 445161,\n            'f': \"445161\",\n        },\n{\n            'v': 7961,\n            'f': \"7961\",\n        }]],\n        columns: [[\"string\", \"index\"], [\"number\", \"no\"], [\"number\", \"yes\"]],\n        columnOptions: [{\"width\": \"1px\", \"className\": \"index_column\"}],\n        rowsPerPage: 25,\n        helpUrl: \"https://colab.research.google.com/notebooks/data_table.ipynb\",\n        suppressOutputScrolling: true,\n        minimumWidth: undefined,\n      });\n\n      function appendQuickchartButton(parentElement) {\n        let quickchartButtonContainerElement = document.createElement('div');\n        quickchartButtonContainerElement.innerHTML = `\n<div id=\"df-2012912c-0579-4974-98a0-f2af92201e0d\">\n  <button class=\"colab-df-quickchart\" onclick=\"quickchart('df-2012912c-0579-4974-98a0-f2af92201e0d')\"\n            title=\"Suggest charts\"\n            style=\"display:none;\">\n    \n<svg xmlns=\"http://www.w3.org/2000/svg\" height=\"24px\"viewBox=\"0 0 24 24\"\n     width=\"24px\">\n    <g>\n        <path d=\"M19 3H5c-1.1 0-2 .9-2 2v14c0 1.1.9 2 2 2h14c1.1 0 2-.9 2-2V5c0-1.1-.9-2-2-2zM9 17H7v-7h2v7zm4 0h-2V7h2v10zm4 0h-2v-4h2v4z\"/>\n    </g>\n</svg>\n  </button>\n  \n<style>\n  .colab-df-quickchart {\n      --bg-color: #E8F0FE;\n      --fill-color: #1967D2;\n      --hover-bg-color: #E2EBFA;\n      --hover-fill-color: #174EA6;\n      --disabled-fill-color: #AAA;\n      --disabled-bg-color: #DDD;\n  }\n\n  [theme=dark] .colab-df-quickchart {\n      --bg-color: #3B4455;\n      --fill-color: #D2E3FC;\n      --hover-bg-color: #434B5C;\n      --hover-fill-color: #FFFFFF;\n      --disabled-bg-color: #3B4455;\n      --disabled-fill-color: #666;\n  }\n\n  .colab-df-quickchart {\n    background-color: var(--bg-color);\n    border: none;\n    border-radius: 50%;\n    cursor: pointer;\n    display: none;\n    fill: var(--fill-color);\n    height: 32px;\n    padding: 0;\n    width: 32px;\n  }\n\n  .colab-df-quickchart:hover {\n    background-color: var(--hover-bg-color);\n    box-shadow: 0 1px 2px rgba(60, 64, 67, 0.3), 0 1px 3px 1px rgba(60, 64, 67, 0.15);\n    fill: var(--button-hover-fill-color);\n  }\n\n  .colab-df-quickchart-complete:disabled,\n  .colab-df-quickchart-complete:disabled:hover {\n    background-color: var(--disabled-bg-color);\n    fill: var(--disabled-fill-color);\n    box-shadow: none;\n  }\n\n  .colab-df-spinner {\n    border: 2px solid var(--fill-color);\n    border-color: transparent;\n    border-bottom-color: var(--fill-color);\n    animation:\n      spin 1s steps(1) infinite;\n  }\n\n  @keyframes spin {\n    0% {\n      border-color: transparent;\n      border-bottom-color: var(--fill-color);\n      border-left-color: var(--fill-color);\n    }\n    20% {\n      border-color: transparent;\n      border-left-color: var(--fill-color);\n      border-top-color: var(--fill-color);\n    }\n    30% {\n      border-color: transparent;\n      border-left-color: var(--fill-color);\n      border-top-color: var(--fill-color);\n      border-right-color: var(--fill-color);\n    }\n    40% {\n      border-color: transparent;\n      border-right-color: var(--fill-color);\n      border-top-color: var(--fill-color);\n    }\n    60% {\n      border-color: transparent;\n      border-right-color: var(--fill-color);\n    }\n    80% {\n      border-color: transparent;\n      border-right-color: var(--fill-color);\n      border-bottom-color: var(--fill-color);\n    }\n    90% {\n      border-color: transparent;\n      border-bottom-color: var(--fill-color);\n    }\n  }\n</style>\n\n  <script>\n    async function quickchart(key) {\n      const quickchartButtonEl =\n        document.querySelector('#' + key + ' button');\n      quickchartButtonEl.disabled = true;  // To prevent multiple clicks.\n      quickchartButtonEl.classList.add('colab-df-spinner');\n      try {\n        const charts = await google.colab.kernel.invokeFunction(\n            'suggestCharts', [key], {});\n      } catch (error) {\n        console.error('Error during call to suggestCharts:', error);\n      }\n      quickchartButtonEl.classList.remove('colab-df-spinner');\n      quickchartButtonEl.classList.add('colab-df-quickchart-complete');\n    }\n    (() => {\n      let quickchartButtonEl =\n        document.querySelector('#df-2012912c-0579-4974-98a0-f2af92201e0d button');\n      quickchartButtonEl.style.display =\n        google.colab.kernel.accessAllowed ? 'block' : 'none';\n    })();\n  </script>\n</div>`;\n        parentElement.appendChild(quickchartButtonContainerElement);\n      }\n\n      appendQuickchartButton(table);\n    "
          },
          "metadata": {},
          "execution_count": 11
        }
      ]
    },
    {
      "cell_type": "code",
      "source": [
        "# =============================================================================\n",
        "# Browser and User Signups - Chi-Squared Test of Independence\n",
        "# =============================================================================\n",
        "stats.chi2_contingency(observed= browser_observed)"
      ],
      "metadata": {
        "id": "WaCnIpd6RhhH",
        "colab": {
          "base_uri": "https://localhost:8080/"
        },
        "outputId": "60d3ef26-06ca-4b26-eb02-6ec0de78a19b"
      },
      "execution_count": null,
      "outputs": [
        {
          "output_type": "execute_result",
          "data": {
            "text/plain": [
              "Chi2ContingencyResult(statistic=295.63074097725536, pvalue=2.949230378104203e-66, dof=1, expected_freq=array([[ 80927.99583108,   1341.00416892],\n",
              "       [445736.00416892,   7385.99583108]]))"
            ]
          },
          "metadata": {},
          "execution_count": 12
        }
      ]
    },
    {
      "cell_type": "code",
      "source": [
        "# =============================================================================\n",
        "# Browser and User Signups - Chi-Square Post Hoc Testing\n",
        "# =============================================================================\n",
        "browser_dummies = pd.get_dummies(df['browser_rev'])\n",
        "for series in browser_dummies:\n",
        "    nl = \"\\n\"\n",
        "\n",
        "    browser_crosstab = pd.crosstab(browser_dummies[f\"{series}\"], df['user_signups'])\n",
        "    print(browser_crosstab, nl)\n",
        "    chi2, p, dof, expected = stats.chi2_contingency(browser_crosstab)\n",
        "    print(f\"Chi2 value= {chi2}{nl}p-value= {p}{nl}Degrees of freedom= {dof}{nl}\")"
      ],
      "metadata": {
        "id": "8lWQQHVYRhcJ",
        "colab": {
          "base_uri": "https://localhost:8080/"
        },
        "outputId": "a0c80d47-61d9-47af-f2ab-3bbb27a96684"
      },
      "execution_count": null,
      "outputs": [
        {
          "output_type": "stream",
          "name": "stdout",
          "text": [
            "user_signups       0     1\n",
            "desktop_web               \n",
            "False         445161  7961\n",
            "True           81503   766 \n",
            "\n",
            "Chi2 value= 295.63074097725536\n",
            "p-value= 2.949230378104203e-66\n",
            "Degrees of freedom= 1\n",
            "\n",
            "user_signups       0     1\n",
            "mobile_web                \n",
            "False          81503   766\n",
            "True          445161  7961 \n",
            "\n",
            "Chi2 value= 295.63074097725536\n",
            "p-value= 2.949230378104203e-66\n",
            "Degrees of freedom= 1\n",
            "\n"
          ]
        }
      ]
    },
    {
      "cell_type": "code",
      "source": [
        "# =============================================================================\n",
        "# Operating System and User Signups - Contingency Tables\n",
        "# =============================================================================\n",
        "os_tab = pd.crosstab(df['os_name_grouped'],\n",
        "\t\t\t\t\t\t\tdf['user_signups'],\n",
        "\t\t\t\t\t\t\tmargins = True\n",
        ")\n",
        "print(os_tab)"
      ],
      "metadata": {
        "id": "t3TjOxoNRhMb",
        "colab": {
          "base_uri": "https://localhost:8080/"
        },
        "outputId": "aa58f1f7-753a-4870-d37b-1059f1047bf6"
      },
      "execution_count": null,
      "outputs": [
        {
          "output_type": "stream",
          "name": "stdout",
          "text": [
            "user_signups          0     1     All\n",
            "os_name_grouped                      \n",
            "Android          144409  2877  147286\n",
            "Chrome_OS          6522   139    6661\n",
            "Windows           30847   345   31192\n",
            "iOS              323860  5190  329050\n",
            "macOS             14021   142   14163\n",
            "remaining          7005    34    7039\n",
            "All              526664  8727  535391\n"
          ]
        }
      ]
    },
    {
      "cell_type": "code",
      "source": [
        "# =============================================================================\n",
        "# Operating System and User Signups - Expected Values\n",
        "# =============================================================================\n",
        "os_tab.columns = [\"no\", \"yes\", \"row_totals\"]\n",
        "os_tab.index = [\"Android\", \"Chrome OS\", \"Windows\", \"iOS\", \"macOS\", \"remaining\",\n",
        "                \"col_totals\"]\n",
        "os_observed = os_tab.iloc[0:6,0:2]\n",
        "os_expected =  np.outer(os_tab[\"row_totals\"][0:6],\n",
        "                     os_tab.loc[\"col_totals\"][0:2]) / 535391\n",
        "\n",
        "os_expected = pd.DataFrame(os_expected)\n",
        "\n",
        "os_expected.columns = [\"no\",\"yes\"]\n",
        "os_expected.index = [\"Android\", \"Chrome OS\", \"Windows\", \"iOS\", \"macOS\",\n",
        "                     \"remaining\"]\n",
        "\n",
        "os_expected"
      ],
      "metadata": {
        "id": "OL0c1f3IRhG4",
        "colab": {
          "base_uri": "https://localhost:8080/",
          "height": 251
        },
        "outputId": "05a9241b-9ee8-4d42-bfe0-5366a8029b76"
      },
      "execution_count": null,
      "outputs": [
        {
          "output_type": "execute_result",
          "data": {
            "text/plain": [
              "                      no          yes\n",
              "Android    144885.203345  2400.796655\n",
              "Chrome OS    6552.424124   108.575876\n",
              "Windows     30683.563018   508.436982\n",
              "iOS        323686.407130  5363.592870\n",
              "macOS       13932.139748   230.860252\n",
              "remaining    6924.262634   114.737366"
            ],
            "text/html": [
              "\n",
              "  <div id=\"df-3af802be-b7ba-4f9c-b7c3-09599de67541\" class=\"colab-df-container\">\n",
              "    <div>\n",
              "<style scoped>\n",
              "    .dataframe tbody tr th:only-of-type {\n",
              "        vertical-align: middle;\n",
              "    }\n",
              "\n",
              "    .dataframe tbody tr th {\n",
              "        vertical-align: top;\n",
              "    }\n",
              "\n",
              "    .dataframe thead th {\n",
              "        text-align: right;\n",
              "    }\n",
              "</style>\n",
              "<table border=\"1\" class=\"dataframe\">\n",
              "  <thead>\n",
              "    <tr style=\"text-align: right;\">\n",
              "      <th></th>\n",
              "      <th>no</th>\n",
              "      <th>yes</th>\n",
              "    </tr>\n",
              "  </thead>\n",
              "  <tbody>\n",
              "    <tr>\n",
              "      <th>Android</th>\n",
              "      <td>144885.203345</td>\n",
              "      <td>2400.796655</td>\n",
              "    </tr>\n",
              "    <tr>\n",
              "      <th>Chrome OS</th>\n",
              "      <td>6552.424124</td>\n",
              "      <td>108.575876</td>\n",
              "    </tr>\n",
              "    <tr>\n",
              "      <th>Windows</th>\n",
              "      <td>30683.563018</td>\n",
              "      <td>508.436982</td>\n",
              "    </tr>\n",
              "    <tr>\n",
              "      <th>iOS</th>\n",
              "      <td>323686.407130</td>\n",
              "      <td>5363.592870</td>\n",
              "    </tr>\n",
              "    <tr>\n",
              "      <th>macOS</th>\n",
              "      <td>13932.139748</td>\n",
              "      <td>230.860252</td>\n",
              "    </tr>\n",
              "    <tr>\n",
              "      <th>remaining</th>\n",
              "      <td>6924.262634</td>\n",
              "      <td>114.737366</td>\n",
              "    </tr>\n",
              "  </tbody>\n",
              "</table>\n",
              "</div>\n",
              "    <div class=\"colab-df-buttons\">\n",
              "\n",
              "  <div class=\"colab-df-container\">\n",
              "    <button class=\"colab-df-convert\" onclick=\"convertToInteractive('df-3af802be-b7ba-4f9c-b7c3-09599de67541')\"\n",
              "            title=\"Convert this dataframe to an interactive table.\"\n",
              "            style=\"display:none;\">\n",
              "\n",
              "  <svg xmlns=\"http://www.w3.org/2000/svg\" height=\"24px\" viewBox=\"0 -960 960 960\">\n",
              "    <path d=\"M120-120v-720h720v720H120Zm60-500h600v-160H180v160Zm220 220h160v-160H400v160Zm0 220h160v-160H400v160ZM180-400h160v-160H180v160Zm440 0h160v-160H620v160ZM180-180h160v-160H180v160Zm440 0h160v-160H620v160Z\"/>\n",
              "  </svg>\n",
              "    </button>\n",
              "\n",
              "  <style>\n",
              "    .colab-df-container {\n",
              "      display:flex;\n",
              "      gap: 12px;\n",
              "    }\n",
              "\n",
              "    .colab-df-convert {\n",
              "      background-color: #E8F0FE;\n",
              "      border: none;\n",
              "      border-radius: 50%;\n",
              "      cursor: pointer;\n",
              "      display: none;\n",
              "      fill: #1967D2;\n",
              "      height: 32px;\n",
              "      padding: 0 0 0 0;\n",
              "      width: 32px;\n",
              "    }\n",
              "\n",
              "    .colab-df-convert:hover {\n",
              "      background-color: #E2EBFA;\n",
              "      box-shadow: 0px 1px 2px rgba(60, 64, 67, 0.3), 0px 1px 3px 1px rgba(60, 64, 67, 0.15);\n",
              "      fill: #174EA6;\n",
              "    }\n",
              "\n",
              "    .colab-df-buttons div {\n",
              "      margin-bottom: 4px;\n",
              "    }\n",
              "\n",
              "    [theme=dark] .colab-df-convert {\n",
              "      background-color: #3B4455;\n",
              "      fill: #D2E3FC;\n",
              "    }\n",
              "\n",
              "    [theme=dark] .colab-df-convert:hover {\n",
              "      background-color: #434B5C;\n",
              "      box-shadow: 0px 1px 3px 1px rgba(0, 0, 0, 0.15);\n",
              "      filter: drop-shadow(0px 1px 2px rgba(0, 0, 0, 0.3));\n",
              "      fill: #FFFFFF;\n",
              "    }\n",
              "  </style>\n",
              "\n",
              "    <script>\n",
              "      const buttonEl =\n",
              "        document.querySelector('#df-3af802be-b7ba-4f9c-b7c3-09599de67541 button.colab-df-convert');\n",
              "      buttonEl.style.display =\n",
              "        google.colab.kernel.accessAllowed ? 'block' : 'none';\n",
              "\n",
              "      async function convertToInteractive(key) {\n",
              "        const element = document.querySelector('#df-3af802be-b7ba-4f9c-b7c3-09599de67541');\n",
              "        const dataTable =\n",
              "          await google.colab.kernel.invokeFunction('convertToInteractive',\n",
              "                                                    [key], {});\n",
              "        if (!dataTable) return;\n",
              "\n",
              "        const docLinkHtml = 'Like what you see? Visit the ' +\n",
              "          '<a target=\"_blank\" href=https://colab.research.google.com/notebooks/data_table.ipynb>data table notebook</a>'\n",
              "          + ' to learn more about interactive tables.';\n",
              "        element.innerHTML = '';\n",
              "        dataTable['output_type'] = 'display_data';\n",
              "        await google.colab.output.renderOutput(dataTable, element);\n",
              "        const docLink = document.createElement('div');\n",
              "        docLink.innerHTML = docLinkHtml;\n",
              "        element.appendChild(docLink);\n",
              "      }\n",
              "    </script>\n",
              "  </div>\n",
              "\n",
              "\n",
              "<div id=\"df-0e0191ab-53c5-4123-bf8f-70a8714bb2aa\">\n",
              "  <button class=\"colab-df-quickchart\" onclick=\"quickchart('df-0e0191ab-53c5-4123-bf8f-70a8714bb2aa')\"\n",
              "            title=\"Suggest charts\"\n",
              "            style=\"display:none;\">\n",
              "\n",
              "<svg xmlns=\"http://www.w3.org/2000/svg\" height=\"24px\"viewBox=\"0 0 24 24\"\n",
              "     width=\"24px\">\n",
              "    <g>\n",
              "        <path d=\"M19 3H5c-1.1 0-2 .9-2 2v14c0 1.1.9 2 2 2h14c1.1 0 2-.9 2-2V5c0-1.1-.9-2-2-2zM9 17H7v-7h2v7zm4 0h-2V7h2v10zm4 0h-2v-4h2v4z\"/>\n",
              "    </g>\n",
              "</svg>\n",
              "  </button>\n",
              "\n",
              "<style>\n",
              "  .colab-df-quickchart {\n",
              "      --bg-color: #E8F0FE;\n",
              "      --fill-color: #1967D2;\n",
              "      --hover-bg-color: #E2EBFA;\n",
              "      --hover-fill-color: #174EA6;\n",
              "      --disabled-fill-color: #AAA;\n",
              "      --disabled-bg-color: #DDD;\n",
              "  }\n",
              "\n",
              "  [theme=dark] .colab-df-quickchart {\n",
              "      --bg-color: #3B4455;\n",
              "      --fill-color: #D2E3FC;\n",
              "      --hover-bg-color: #434B5C;\n",
              "      --hover-fill-color: #FFFFFF;\n",
              "      --disabled-bg-color: #3B4455;\n",
              "      --disabled-fill-color: #666;\n",
              "  }\n",
              "\n",
              "  .colab-df-quickchart {\n",
              "    background-color: var(--bg-color);\n",
              "    border: none;\n",
              "    border-radius: 50%;\n",
              "    cursor: pointer;\n",
              "    display: none;\n",
              "    fill: var(--fill-color);\n",
              "    height: 32px;\n",
              "    padding: 0;\n",
              "    width: 32px;\n",
              "  }\n",
              "\n",
              "  .colab-df-quickchart:hover {\n",
              "    background-color: var(--hover-bg-color);\n",
              "    box-shadow: 0 1px 2px rgba(60, 64, 67, 0.3), 0 1px 3px 1px rgba(60, 64, 67, 0.15);\n",
              "    fill: var(--button-hover-fill-color);\n",
              "  }\n",
              "\n",
              "  .colab-df-quickchart-complete:disabled,\n",
              "  .colab-df-quickchart-complete:disabled:hover {\n",
              "    background-color: var(--disabled-bg-color);\n",
              "    fill: var(--disabled-fill-color);\n",
              "    box-shadow: none;\n",
              "  }\n",
              "\n",
              "  .colab-df-spinner {\n",
              "    border: 2px solid var(--fill-color);\n",
              "    border-color: transparent;\n",
              "    border-bottom-color: var(--fill-color);\n",
              "    animation:\n",
              "      spin 1s steps(1) infinite;\n",
              "  }\n",
              "\n",
              "  @keyframes spin {\n",
              "    0% {\n",
              "      border-color: transparent;\n",
              "      border-bottom-color: var(--fill-color);\n",
              "      border-left-color: var(--fill-color);\n",
              "    }\n",
              "    20% {\n",
              "      border-color: transparent;\n",
              "      border-left-color: var(--fill-color);\n",
              "      border-top-color: var(--fill-color);\n",
              "    }\n",
              "    30% {\n",
              "      border-color: transparent;\n",
              "      border-left-color: var(--fill-color);\n",
              "      border-top-color: var(--fill-color);\n",
              "      border-right-color: var(--fill-color);\n",
              "    }\n",
              "    40% {\n",
              "      border-color: transparent;\n",
              "      border-right-color: var(--fill-color);\n",
              "      border-top-color: var(--fill-color);\n",
              "    }\n",
              "    60% {\n",
              "      border-color: transparent;\n",
              "      border-right-color: var(--fill-color);\n",
              "    }\n",
              "    80% {\n",
              "      border-color: transparent;\n",
              "      border-right-color: var(--fill-color);\n",
              "      border-bottom-color: var(--fill-color);\n",
              "    }\n",
              "    90% {\n",
              "      border-color: transparent;\n",
              "      border-bottom-color: var(--fill-color);\n",
              "    }\n",
              "  }\n",
              "</style>\n",
              "\n",
              "  <script>\n",
              "    async function quickchart(key) {\n",
              "      const quickchartButtonEl =\n",
              "        document.querySelector('#' + key + ' button');\n",
              "      quickchartButtonEl.disabled = true;  // To prevent multiple clicks.\n",
              "      quickchartButtonEl.classList.add('colab-df-spinner');\n",
              "      try {\n",
              "        const charts = await google.colab.kernel.invokeFunction(\n",
              "            'suggestCharts', [key], {});\n",
              "      } catch (error) {\n",
              "        console.error('Error during call to suggestCharts:', error);\n",
              "      }\n",
              "      quickchartButtonEl.classList.remove('colab-df-spinner');\n",
              "      quickchartButtonEl.classList.add('colab-df-quickchart-complete');\n",
              "    }\n",
              "    (() => {\n",
              "      let quickchartButtonEl =\n",
              "        document.querySelector('#df-0e0191ab-53c5-4123-bf8f-70a8714bb2aa button');\n",
              "      quickchartButtonEl.style.display =\n",
              "        google.colab.kernel.accessAllowed ? 'block' : 'none';\n",
              "    })();\n",
              "  </script>\n",
              "</div>\n",
              "\n",
              "  <div id=\"id_7764f4a2-cde2-4497-96f6-ff1c3c532396\">\n",
              "    <style>\n",
              "      .colab-df-generate {\n",
              "        background-color: #E8F0FE;\n",
              "        border: none;\n",
              "        border-radius: 50%;\n",
              "        cursor: pointer;\n",
              "        display: none;\n",
              "        fill: #1967D2;\n",
              "        height: 32px;\n",
              "        padding: 0 0 0 0;\n",
              "        width: 32px;\n",
              "      }\n",
              "\n",
              "      .colab-df-generate:hover {\n",
              "        background-color: #E2EBFA;\n",
              "        box-shadow: 0px 1px 2px rgba(60, 64, 67, 0.3), 0px 1px 3px 1px rgba(60, 64, 67, 0.15);\n",
              "        fill: #174EA6;\n",
              "      }\n",
              "\n",
              "      [theme=dark] .colab-df-generate {\n",
              "        background-color: #3B4455;\n",
              "        fill: #D2E3FC;\n",
              "      }\n",
              "\n",
              "      [theme=dark] .colab-df-generate:hover {\n",
              "        background-color: #434B5C;\n",
              "        box-shadow: 0px 1px 3px 1px rgba(0, 0, 0, 0.15);\n",
              "        filter: drop-shadow(0px 1px 2px rgba(0, 0, 0, 0.3));\n",
              "        fill: #FFFFFF;\n",
              "      }\n",
              "    </style>\n",
              "    <button class=\"colab-df-generate\" onclick=\"generateWithVariable('os_expected')\"\n",
              "            title=\"Generate code using this dataframe.\"\n",
              "            style=\"display:none;\">\n",
              "\n",
              "  <svg xmlns=\"http://www.w3.org/2000/svg\" height=\"24px\"viewBox=\"0 0 24 24\"\n",
              "       width=\"24px\">\n",
              "    <path d=\"M7,19H8.4L18.45,9,17,7.55,7,17.6ZM5,21V16.75L18.45,3.32a2,2,0,0,1,2.83,0l1.4,1.43a1.91,1.91,0,0,1,.58,1.4,1.91,1.91,0,0,1-.58,1.4L9.25,21ZM18.45,9,17,7.55Zm-12,3A5.31,5.31,0,0,0,4.9,8.1,5.31,5.31,0,0,0,1,6.5,5.31,5.31,0,0,0,4.9,4.9,5.31,5.31,0,0,0,6.5,1,5.31,5.31,0,0,0,8.1,4.9,5.31,5.31,0,0,0,12,6.5,5.46,5.46,0,0,0,6.5,12Z\"/>\n",
              "  </svg>\n",
              "    </button>\n",
              "    <script>\n",
              "      (() => {\n",
              "      const buttonEl =\n",
              "        document.querySelector('#id_7764f4a2-cde2-4497-96f6-ff1c3c532396 button.colab-df-generate');\n",
              "      buttonEl.style.display =\n",
              "        google.colab.kernel.accessAllowed ? 'block' : 'none';\n",
              "\n",
              "      buttonEl.onclick = () => {\n",
              "        google.colab.notebook.generateWithVariable('os_expected');\n",
              "      }\n",
              "      })();\n",
              "    </script>\n",
              "  </div>\n",
              "\n",
              "    </div>\n",
              "  </div>\n"
            ],
            "application/vnd.google.colaboratory.intrinsic+json": {
              "type": "dataframe",
              "variable_name": "os_expected",
              "summary": "{\n  \"name\": \"os_expected\",\n  \"rows\": 6,\n  \"fields\": [\n    {\n      \"column\": \"no\",\n      \"properties\": {\n        \"dtype\": \"number\",\n        \"std\": 127092.02654694975,\n        \"min\": 6552.424123677835,\n        \"max\": 323686.4071304897,\n        \"num_unique_values\": 6,\n        \"samples\": [\n          144885.20334484515,\n          6552.424123677835,\n          6924.262634224333\n        ],\n        \"semantic_type\": \"\",\n        \"description\": \"\"\n      }\n    },\n    {\n      \"column\": \"yes\",\n      \"properties\": {\n        \"dtype\": \"number\",\n        \"std\": 2105.957718156605,\n        \"min\": 108.57587632216455,\n        \"max\": 5363.59286951032,\n        \"num_unique_values\": 6,\n        \"samples\": [\n          2400.7966551548307,\n          108.57587632216455,\n          114.73736577566676\n        ],\n        \"semantic_type\": \"\",\n        \"description\": \"\"\n      }\n    }\n  ]\n}"
            },
            "application/vnd.google.colaboratory.module+javascript": "\n      import \"https://ssl.gstatic.com/colaboratory/data_table/881c4a0d49046431/data_table.js\";\n\n      const table = window.createDataTable({\n        data: [[\"Android\",\n{\n            'v': 144885.20334484515,\n            'f': \"144885.20334484515\",\n        },\n{\n            'v': 2400.7966551548307,\n            'f': \"2400.7966551548307\",\n        }],\n [\"Chrome OS\",\n{\n            'v': 6552.424123677835,\n            'f': \"6552.424123677835\",\n        },\n{\n            'v': 108.57587632216455,\n            'f': \"108.57587632216455\",\n        }],\n [\"Windows\",\n{\n            'v': 30683.563018429522,\n            'f': \"30683.563018429522\",\n        },\n{\n            'v': 508.4369815704784,\n            'f': \"508.4369815704784\",\n        }],\n [\"iOS\",\n{\n            'v': 323686.4071304897,\n            'f': \"323686.4071304897\",\n        },\n{\n            'v': 5363.59286951032,\n            'f': \"5363.59286951032\",\n        }],\n [\"macOS\",\n{\n            'v': 13932.13974833346,\n            'f': \"13932.13974833346\",\n        },\n{\n            'v': 230.86025166653903,\n            'f': \"230.86025166653903\",\n        }],\n [\"remaining\",\n{\n            'v': 6924.262634224333,\n            'f': \"6924.262634224333\",\n        },\n{\n            'v': 114.73736577566676,\n            'f': \"114.73736577566676\",\n        }]],\n        columns: [[\"string\", \"index\"], [\"number\", \"no\"], [\"number\", \"yes\"]],\n        columnOptions: [{\"width\": \"1px\", \"className\": \"index_column\"}],\n        rowsPerPage: 25,\n        helpUrl: \"https://colab.research.google.com/notebooks/data_table.ipynb\",\n        suppressOutputScrolling: true,\n        minimumWidth: undefined,\n      });\n\n      function appendQuickchartButton(parentElement) {\n        let quickchartButtonContainerElement = document.createElement('div');\n        quickchartButtonContainerElement.innerHTML = `\n<div id=\"df-d333e35d-cd85-4174-9075-627321e86643\">\n  <button class=\"colab-df-quickchart\" onclick=\"quickchart('df-d333e35d-cd85-4174-9075-627321e86643')\"\n            title=\"Suggest charts\"\n            style=\"display:none;\">\n    \n<svg xmlns=\"http://www.w3.org/2000/svg\" height=\"24px\"viewBox=\"0 0 24 24\"\n     width=\"24px\">\n    <g>\n        <path d=\"M19 3H5c-1.1 0-2 .9-2 2v14c0 1.1.9 2 2 2h14c1.1 0 2-.9 2-2V5c0-1.1-.9-2-2-2zM9 17H7v-7h2v7zm4 0h-2V7h2v10zm4 0h-2v-4h2v4z\"/>\n    </g>\n</svg>\n  </button>\n  \n<style>\n  .colab-df-quickchart {\n      --bg-color: #E8F0FE;\n      --fill-color: #1967D2;\n      --hover-bg-color: #E2EBFA;\n      --hover-fill-color: #174EA6;\n      --disabled-fill-color: #AAA;\n      --disabled-bg-color: #DDD;\n  }\n\n  [theme=dark] .colab-df-quickchart {\n      --bg-color: #3B4455;\n      --fill-color: #D2E3FC;\n      --hover-bg-color: #434B5C;\n      --hover-fill-color: #FFFFFF;\n      --disabled-bg-color: #3B4455;\n      --disabled-fill-color: #666;\n  }\n\n  .colab-df-quickchart {\n    background-color: var(--bg-color);\n    border: none;\n    border-radius: 50%;\n    cursor: pointer;\n    display: none;\n    fill: var(--fill-color);\n    height: 32px;\n    padding: 0;\n    width: 32px;\n  }\n\n  .colab-df-quickchart:hover {\n    background-color: var(--hover-bg-color);\n    box-shadow: 0 1px 2px rgba(60, 64, 67, 0.3), 0 1px 3px 1px rgba(60, 64, 67, 0.15);\n    fill: var(--button-hover-fill-color);\n  }\n\n  .colab-df-quickchart-complete:disabled,\n  .colab-df-quickchart-complete:disabled:hover {\n    background-color: var(--disabled-bg-color);\n    fill: var(--disabled-fill-color);\n    box-shadow: none;\n  }\n\n  .colab-df-spinner {\n    border: 2px solid var(--fill-color);\n    border-color: transparent;\n    border-bottom-color: var(--fill-color);\n    animation:\n      spin 1s steps(1) infinite;\n  }\n\n  @keyframes spin {\n    0% {\n      border-color: transparent;\n      border-bottom-color: var(--fill-color);\n      border-left-color: var(--fill-color);\n    }\n    20% {\n      border-color: transparent;\n      border-left-color: var(--fill-color);\n      border-top-color: var(--fill-color);\n    }\n    30% {\n      border-color: transparent;\n      border-left-color: var(--fill-color);\n      border-top-color: var(--fill-color);\n      border-right-color: var(--fill-color);\n    }\n    40% {\n      border-color: transparent;\n      border-right-color: var(--fill-color);\n      border-top-color: var(--fill-color);\n    }\n    60% {\n      border-color: transparent;\n      border-right-color: var(--fill-color);\n    }\n    80% {\n      border-color: transparent;\n      border-right-color: var(--fill-color);\n      border-bottom-color: var(--fill-color);\n    }\n    90% {\n      border-color: transparent;\n      border-bottom-color: var(--fill-color);\n    }\n  }\n</style>\n\n  <script>\n    async function quickchart(key) {\n      const quickchartButtonEl =\n        document.querySelector('#' + key + ' button');\n      quickchartButtonEl.disabled = true;  // To prevent multiple clicks.\n      quickchartButtonEl.classList.add('colab-df-spinner');\n      try {\n        const charts = await google.colab.kernel.invokeFunction(\n            'suggestCharts', [key], {});\n      } catch (error) {\n        console.error('Error during call to suggestCharts:', error);\n      }\n      quickchartButtonEl.classList.remove('colab-df-spinner');\n      quickchartButtonEl.classList.add('colab-df-quickchart-complete');\n    }\n    (() => {\n      let quickchartButtonEl =\n        document.querySelector('#df-d333e35d-cd85-4174-9075-627321e86643 button');\n      quickchartButtonEl.style.display =\n        google.colab.kernel.accessAllowed ? 'block' : 'none';\n    })();\n  </script>\n</div>`;\n        parentElement.appendChild(quickchartButtonContainerElement);\n      }\n\n      appendQuickchartButton(table);\n    "
          },
          "metadata": {},
          "execution_count": 15
        }
      ]
    },
    {
      "cell_type": "code",
      "source": [
        "# =============================================================================\n",
        "# Operating System and User Signups - Chi-Squared Test of Independence\n",
        "# =============================================================================\n",
        "stats.chi2_contingency(observed= os_observed)"
      ],
      "metadata": {
        "id": "W8SVjMviSujH",
        "colab": {
          "base_uri": "https://localhost:8080/"
        },
        "outputId": "601a39ba-e9c2-408e-d196-683d803c173a"
      },
      "execution_count": null,
      "outputs": [
        {
          "output_type": "execute_result",
          "data": {
            "text/plain": [
              "Chi2ContingencyResult(statistic=256.33021213584755, pvalue=2.4082025200005342e-53, dof=5, expected_freq=array([[1.44885203e+05, 2.40079666e+03],\n",
              "       [6.55242412e+03, 1.08575876e+02],\n",
              "       [3.06835630e+04, 5.08436982e+02],\n",
              "       [3.23686407e+05, 5.36359287e+03],\n",
              "       [1.39321397e+04, 2.30860252e+02],\n",
              "       [6.92426263e+03, 1.14737366e+02]]))"
            ]
          },
          "metadata": {},
          "execution_count": 16
        }
      ]
    },
    {
      "cell_type": "code",
      "source": [
        "# =============================================================================\n",
        "# Operating System and User Signups - Chi-Square Post Hoc Testing\n",
        "# =============================================================================\n",
        "os_dummies = pd.get_dummies(df['os_name_grouped'])\n",
        "for series in os_dummies:\n",
        "    nl = \"\\n\"\n",
        "\n",
        "    os_crosstab = pd.crosstab(os_dummies[f\"{series}\"], df['user_signups'])\n",
        "    print(os_crosstab, nl)\n",
        "    chi2, p, dof, expected = stats.chi2_contingency(os_crosstab)\n",
        "    print(f\"Chi2 value= {chi2}{nl}p-value= {p}{nl}Degrees of freedom= {dof}{nl}\")"
      ],
      "metadata": {
        "id": "E8N3lmloSuav",
        "colab": {
          "base_uri": "https://localhost:8080/"
        },
        "outputId": "74c17678-0ee8-40af-9824-b8de1bf05d76"
      },
      "execution_count": null,
      "outputs": [
        {
          "output_type": "stream",
          "name": "stdout",
          "text": [
            "user_signups       0     1\n",
            "Android                   \n",
            "False         382255  5850\n",
            "True          144409  2877 \n",
            "\n",
            "Chi2 value= 132.1832100650528\n",
            "p-value= 1.3642907584803792e-30\n",
            "Degrees of freedom= 1\n",
            "\n",
            "user_signups       0     1\n",
            "Chrome_OS                 \n",
            "False         520142  8588\n",
            "True            6522   139 \n",
            "\n",
            "Chi2 value= 8.489538562617811\n",
            "p-value= 0.003571943892870518\n",
            "Degrees of freedom= 1\n",
            "\n",
            "user_signups       0     1\n",
            "Windows                   \n",
            "False         495817  8382\n",
            "True           30847   345 \n",
            "\n",
            "Chi2 value= 56.36489743199644\n",
            "p-value= 6.019546830580369e-14\n",
            "Degrees of freedom= 1\n",
            "\n",
            "user_signups       0     1\n",
            "iOS                       \n",
            "False         202804  3537\n",
            "True          323860  5190 \n",
            "\n",
            "Chi2 value= 14.73416466407495\n",
            "p-value= 0.00012378280360961967\n",
            "Degrees of freedom= 1\n",
            "\n",
            "user_signups       0     1\n",
            "macOS                     \n",
            "False         512643  8585\n",
            "True           14021   142 \n",
            "\n",
            "Chi2 value= 35.313883938028134\n",
            "p-value= 2.8062440540018382e-09\n",
            "Degrees of freedom= 1\n",
            "\n",
            "user_signups       0     1\n",
            "remaining                 \n",
            "False         519659  8693\n",
            "True            7005    34 \n",
            "\n",
            "Chi2 value= 57.80076591753746\n",
            "p-value= 2.900567590830519e-14\n",
            "Degrees of freedom= 1\n",
            "\n"
          ]
        }
      ]
    },
    {
      "cell_type": "code",
      "source": [
        "# =============================================================================\n",
        "# State and User Signups - Contingency Tables\n",
        "# =============================================================================\n",
        "state_tab = pd.crosstab(df['region'],\n",
        "\t\t\t\t\t\t\tdf['user_signups'],\n",
        "\t\t\t\t\t\t\tmargins = True\n",
        ")\n",
        "print(state_tab)"
      ],
      "metadata": {
        "id": "zRyi3ij8TEf5"
      },
      "execution_count": null,
      "outputs": []
    },
    {
      "cell_type": "code",
      "source": [
        "# =============================================================================\n",
        "# State and User Signups - Expected Values\n",
        "# =============================================================================\n",
        "state_tab.columns = [\"no\", \"yes\", \"row_totals\"]\n",
        "state_tab.index = ['Alabama', 'Alaska', 'Arizona', 'Arkansas', 'California',\n",
        "                   'Colorado', 'Connecticut', 'Delaware',\n",
        "                   'District_of_Columbia', 'Florida', 'Georgia', 'Hawaii',\n",
        "                   'Idaho', 'Illinois', 'Indiana', 'Iowa', 'Kansas', 'Kentucky',\n",
        "                   'Louisiana', 'Maine', 'Maryland', 'Massachusetts',\n",
        "                   'Michigan', 'Minnesota', 'Mississippi', 'Missouri',\n",
        "                   'Montana', 'Nebraska', 'Nevada', 'New_Hampshire',\n",
        "                   'New_Jersey', 'New_Mexico', 'New_York', 'North_Carolina',\n",
        "                   'North_Dakota', 'Ohio', 'Oklahoma', 'Oregon', 'Pennsylvania',\n",
        "                   'Rhode_Island', 'South_Carolina', 'South_Dakota',\n",
        "                   'Tennessee', 'Texas', 'Utah', 'Vermont', 'Virginia',\n",
        "                   'Washington', 'West Virginia', 'Wisconsin', 'Wyoming',\n",
        "                   \"col_totals\"]\n",
        "state_observed = state_tab.iloc[0:51,0:2]\n",
        "state_expected =  np.outer(state_tab[\"row_totals\"][0:51],\n",
        "                     state_tab.loc[\"col_totals\"][0:2]) / 535391\n",
        "\n",
        "state_expected = pd.DataFrame(state_expected)\n",
        "\n",
        "state_expected.columns = [\"no\",\"yes\"]\n",
        "state_expected.index = ['Alabama', 'Alaska', 'Arizona', 'Arkansas',\n",
        "                        'California',m'Colorado', 'Connecticut', 'Delaware',\n",
        "                        'District_of_Columbia', 'Florida', 'Georgia', 'Hawaii',\n",
        "                        'Idaho', 'Illinois', 'Indiana', 'Iowa', 'Kansas',\n",
        "                        'Kentucky', 'Louisiana', 'Maine', 'Maryland',\n",
        "                        'Massachusetts', 'Michigan', 'Minnesota', 'Mississippi',\n",
        "                        'Missouri', 'Montana', 'Nebraska', 'Nevada',\n",
        "                        'New_Hampshire', 'New_Jersey', 'New_Mexico', 'New_York',\n",
        "                        'North_Carolina', 'North_Dakota', 'Ohio', 'Oklahoma',\n",
        "                        'Oregon', 'Pennsylvania', 'Rhode_Island',\n",
        "                        'South_Carolina', 'South_Dakota', 'Tennessee', 'Texas',\n",
        "                        'Utah', 'Vermont', 'Virginia', 'Washington',\n",
        "                        'West Virginia', 'Wisconsin', 'Wyoming']\n",
        "\n",
        "state_expected"
      ],
      "metadata": {
        "id": "bDQMc-gPTEVa"
      },
      "execution_count": null,
      "outputs": []
    },
    {
      "cell_type": "code",
      "source": [
        "# =============================================================================\n",
        "# State and User Signups - Chi-Squared Test of Independence\n",
        "# =============================================================================\n",
        "stats.chi2_contingency(observed= state_observed)"
      ],
      "metadata": {
        "id": "PoBv7gDpTbpt"
      },
      "execution_count": null,
      "outputs": []
    },
    {
      "cell_type": "code",
      "source": [
        "# =============================================================================\n",
        "# State and User Signups - Chi-Square Post Hoc Testing\n",
        "# =============================================================================\n",
        "state_dummies = pd.get_dummies(df['region'])\n",
        "for series in state_dummies:\n",
        "    nl = \"\\n\"\n",
        "\n",
        "    state_crosstab = pd.crosstab(state_dummies[f\"{series}\"], df['user_signups'])\n",
        "    print(state_crosstab, nl)\n",
        "    chi2, p, dof, expected = stats.chi2_contingency(state_crosstab)\n",
        "    print(f\"Chi2 value= {chi2}{nl}p-value= {p}{nl}Degrees of freedom= {dof}{nl}\")"
      ],
      "metadata": {
        "id": "HoxbFHjTTphy"
      },
      "execution_count": null,
      "outputs": []
    },
    {
      "cell_type": "code",
      "source": [
        "# =============================================================================\n",
        "# Region and User Signups - Contingency Tables\n",
        "# =============================================================================\n",
        "# creating dictionary of states to corresponding region assignments\n",
        "states_to_regions = {'Connecticut' : 'Northeast',\n",
        "                     'Maine' : 'Northeast',\n",
        "                     'Massachusetts' : 'Northeast',\n",
        "                     'New_Hampshire' : 'Northeast',\n",
        "                     'Rhode_Island' : 'Northeast',\n",
        "                     'Vermont' : 'Northeast',\n",
        "                     'New_Jersey' : 'Northeast',\n",
        "                     'New_York' : 'Northeast',\n",
        "                     'Pennsylvania' : 'Northeast',\n",
        "                     'Indiana' : 'Midwest',\n",
        "                     'Illinois' : 'Midwest',\n",
        "                     'Michigan' : 'Midwest',\n",
        "                     'Ohio' : 'Midwest',\n",
        "                     'Wisconsin' : 'Midwest',\n",
        "                     'Iowa' : 'Midwest',\n",
        "                     'Kansas' : 'Midwest',\n",
        "                     'Minnesota' : 'Midwest',\n",
        "                     'Missouri' : 'Midwest',\n",
        "                     'Nebraska' : 'Midwest',\n",
        "                     'North_Dakota' : 'Midwest',\n",
        "                     'South_Dakota' : 'Midwest',\n",
        "                     'Delaware' : 'South',\n",
        "                     'District_of_Columbia' : 'South',\n",
        "                     'Florida' : 'South',\n",
        "                     'Georgia' : 'South',\n",
        "                     'Maryland' : 'South',\n",
        "                     'North_Carolina' : 'South',\n",
        "                     'South_Carolina' : 'South',\n",
        "                     'Virginia' : 'South',\n",
        "                     'West_Virginia' : 'South',\n",
        "                     'Alabama' : 'South',\n",
        "                     'Kentucky' : 'South',\n",
        "                     'Mississippi' : 'South',\n",
        "                     'Tennessee' : 'South',\n",
        "                     'Arkansas' : 'South',\n",
        "                     'Louisiana' : 'South',\n",
        "                     'Oklahoma' : 'South',\n",
        "                     'Texas' : 'South',\n",
        "                     'Arizona' : 'West',\n",
        "                     'Colorado' : 'West',\n",
        "                     'Idaho' : 'West',\n",
        "                     'New_Mexico' : 'West',\n",
        "                     'Montana' : 'West',\n",
        "                     'Utah' : 'West',\n",
        "                     'Nevada' : 'West',\n",
        "                     'Wyoming' : 'West',\n",
        "                     'Alaska' : 'West',\n",
        "                     'California' : 'West',\n",
        "                     'Hawaii' : 'West',\n",
        "                     'Oregon' : 'West',\n",
        "                     'Washington' : 'West'}\n",
        "df['state_region'] = df['region'].map(states_to_regions)\n",
        "\n",
        "region_tab = pd.crosstab(df['state_region'],\n",
        "\t\t\t\t\t\t\tdf['user_signups'],\n",
        "\t\t\t\t\t\t\tmargins = True\n",
        ")\n",
        "print(region_tab)"
      ],
      "metadata": {
        "id": "VIWlNY8wlIlf"
      },
      "execution_count": null,
      "outputs": []
    },
    {
      "cell_type": "code",
      "source": [
        "# =============================================================================\n",
        "# Region and User Signups - Expected Values\n",
        "# =============================================================================\n",
        "region_tab.columns = [\"no\", \"yes\", \"row_totals\"]\n",
        "region_tab.index = ['Midwest', 'Northeast', 'South', 'West', \"col_totals\"]\n",
        "region_observed = region_tab.iloc[0:4,0:2]\n",
        "region_expected =  np.outer(region_tab[\"row_totals\"][0:4],\n",
        "                     region_tab.loc[\"col_totals\"][0:2]) / 535391\n",
        "region_expected = pd.DataFrame(region_expected)\n",
        "\n",
        "region_expected.columns = [\"no\",\"yes\"]\n",
        "region_expected.index = ['Midwest', 'Northeast', 'South', 'West']\n",
        "\n",
        "region_expected"
      ],
      "metadata": {
        "id": "XJjCJTo2lIY0"
      },
      "execution_count": null,
      "outputs": []
    },
    {
      "cell_type": "code",
      "source": [
        "# =============================================================================\n",
        "# Region and User Signups - Chi-Squared Test of Independence\n",
        "# =============================================================================\n",
        "stats.chi2_contingency(observed= region_observed)"
      ],
      "metadata": {
        "id": "axa1VhOYlSSR"
      },
      "execution_count": null,
      "outputs": []
    },
    {
      "cell_type": "code",
      "source": [
        "# =============================================================================\n",
        "# Region and User Signups - Chi-Square Post Hoc Testing\n",
        "# =============================================================================\n",
        "region_dummies = pd.get_dummies(df['state_region'])\n",
        "for series in region_dummies:\n",
        "    nl = \"\\n\"\n",
        "\n",
        "    region_crosstab = pd.crosstab(region_dummies[f\"{series}\"], df['user_signups'])\n",
        "    print(region_crosstab, nl)\n",
        "    chi2, p, dof, expected = stats.chi2_contingency(region_crosstab)\n",
        "    print(f\"Chi2 value= {chi2}{nl}p-value= {p}{nl}Degrees of freedom= {dof}{nl}\")"
      ],
      "metadata": {
        "id": "ZfWrsZhNohEN"
      },
      "execution_count": null,
      "outputs": []
    },
    {
      "cell_type": "code",
      "source": [
        "# =============================================================================\n",
        "# Sub-Region and User Signups - Contingency Tables\n",
        "# =============================================================================\n",
        "# creating dictionary of states to corresponding sub-region assignments\n",
        "states_to_sub_regions = {'Connecticut' : 'New_England',\n",
        "                         'Maine' : 'New_England',\n",
        "                         'Massachusetts' : 'New_England',\n",
        "                         'New_Hampshire' : 'New_England',\n",
        "                         'Rhode_Island' : 'New_England',\n",
        "                         'Vermont' : 'New_England',\n",
        "                         'New_Jersey' : 'Middle_Atlantic',\n",
        "                         'New_York' : 'Middle_Atlantic',\n",
        "                         'Pennsylvania' : 'Middle_Atlantic',\n",
        "                         'Indiana' : 'East_North_Central',\n",
        "                         'Illinois' : 'East_North_Central',\n",
        "                         'Michigan' : 'East_North_Central',\n",
        "                         'Ohio' : 'East_North_Central',\n",
        "                         'Wisconsin' : 'East_North_Central',\n",
        "                         'Iowa' : 'West_North_Central',\n",
        "                         'Kansas' : 'West_North_Central',\n",
        "                         'Minnesota' : 'West_North_Central',\n",
        "                         'Missouri' : 'West_North_Central',\n",
        "                         'Nebraska' : 'West_North_Central',\n",
        "                         'North_Dakota' : 'West_North_Central',\n",
        "                         'South_Dakota' : 'West_North_Central',\n",
        "                         'Delaware' : 'South_Atlantic',\n",
        "                         'District_of_Columbia' : 'South_Atlantic',\n",
        "                         'Florida' : 'South_Atlantic',\n",
        "                         'Georgia' : 'South_Atlantic',\n",
        "                         'Maryland' : 'South_Atlantic',\n",
        "                         'North_Carolina' : 'South_Atlantic',\n",
        "                         'South_Carolina' : 'South_Atlantic',\n",
        "                         'Virginia' : 'South_Atlantic',\n",
        "                         'West_Virginia' : 'South_Atlantic',\n",
        "                         'Alabama' : 'East_South_Central',\n",
        "                         'Kentucky' : 'East_South_Central',\n",
        "                         'Mississippi' : 'East_South_Central',\n",
        "                         'Tennessee' : 'East_South_Central',\n",
        "                         'Arkansas' : 'West_South_Central',\n",
        "                         'Louisiana' : 'West_South_Central',\n",
        "                         'Oklahoma' : 'West_South_Central',\n",
        "                         'Texas' : 'West_South_Central',\n",
        "                         'Arizona' : 'Mountain',\n",
        "                         'Colorado' : 'Mountain',\n",
        "                         'Idaho' : 'Mountain',\n",
        "                         'New_Mexico' : 'Mountain',\n",
        "                         'Montana' : 'Mountain',\n",
        "                         'Utah' : 'Mountain',\n",
        "                         'Nevada' : 'Mountain',\n",
        "                         'Wyoming' : 'Mountain',\n",
        "                         'Alaska' : 'Pacific',\n",
        "                         'California' : 'Pacific',\n",
        "                         'Hawaii' : 'Pacific',\n",
        "                         'Oregon' : 'Pacific',\n",
        "                         'Washington' : 'Pacific'}\n",
        "df['state_sub_region'] = df['region'].map(states_to_sub_regions)\n",
        "\n",
        "sub_region_tab = pd.crosstab(df['state_sub_region'],\n",
        "\t\t\t\t\t\t\tdf['user_signups'],\n",
        "\t\t\t\t\t\t\tmargins = True\n",
        ")\n",
        "print(sub_region_tab)"
      ],
      "metadata": {
        "id": "_7h06tdAiMTl"
      },
      "execution_count": null,
      "outputs": []
    },
    {
      "cell_type": "code",
      "source": [
        "# =============================================================================\n",
        "# Sub-Region and User Signups - Expected Values\n",
        "# =============================================================================\n",
        "sub_region_tab.columns = [\"no\", \"yes\", \"row_totals\"]\n",
        "sub_region_tab.index = ['East_North_Central', 'East_South_Central',\n",
        "                        'Middle_Atlantic', 'Mountain', 'New_England', 'Pacific',\n",
        "                        'South_Atlantic', 'West_North_Central',\n",
        "                        'West_South_Central', \"col_totals\"]\n",
        "sub_region_observed = sub_region_tab.iloc[0:9,0:2]\n",
        "sub_region_expected =  np.outer(sub_region_tab[\"row_totals\"][0:9],\n",
        "                     sub_region_tab.loc[\"col_totals\"][0:2]) / 535391\n",
        "\n",
        "sub_region_expected = pd.DataFrame(sub_region_expected)\n",
        "\n",
        "sub_region_expected.columns = [\"no\",\"yes\"]\n",
        "sub_region_expected.index = ['East_North_Central', 'East_South_Central',\n",
        "                        'Middle_Atlantic', 'Mountain', 'New_England', 'Pacific',\n",
        "                        'South_Atlantic', 'West_North_Central',\n",
        "                        'West_South_Central']\n",
        "\n",
        "sub_region_expected"
      ],
      "metadata": {
        "id": "RCYX_i-GiMJ8"
      },
      "execution_count": null,
      "outputs": []
    },
    {
      "cell_type": "code",
      "source": [
        "# =============================================================================\n",
        "# Sub-Region and User Signups - Chi-Squared Test of Independence\n",
        "# =============================================================================\n",
        "stats.chi2_contingency(observed= sub_region_observed)"
      ],
      "metadata": {
        "id": "7tAtIbLkmPq2"
      },
      "execution_count": null,
      "outputs": []
    },
    {
      "cell_type": "code",
      "source": [
        "# =============================================================================\n",
        "# Sub-Region and User Signups - Chi-Square Post Hoc Testing\n",
        "# =============================================================================\n",
        "sub_region_dummies = pd.get_dummies(df['state_sub_region'])\n",
        "for series in sub_region_dummies:\n",
        "    nl = \"\\n\"\n",
        "\n",
        "    sub_region_crosstab = pd.crosstab(sub_region_dummies[f\"{series}\"], df['user_signups'])\n",
        "    print(sub_region_crosstab, nl)\n",
        "    chi2, p, dof, expected = stats.chi2_contingency(sub_region_crosstab)\n",
        "    print(f\"Chi2 value= {chi2}{nl}p-value= {p}{nl}Degrees of freedom= {dof}{nl}\")"
      ],
      "metadata": {
        "id": "c7i09vKdkT4j"
      },
      "execution_count": null,
      "outputs": []
    },
    {
      "cell_type": "code",
      "source": [],
      "metadata": {
        "id": "xMHSXbuGrluM"
      },
      "execution_count": null,
      "outputs": []
    },
    {
      "cell_type": "code",
      "source": [
        "# =============================================================================\n",
        "# =============================================================================\n",
        "# UNI-VARIATE (LOGISTIC REGRESSION) ANALYSIS\n",
        "# =============================================================================\n",
        "# ============================================================================="
      ],
      "metadata": {
        "id": "jkZjWQQYplNr"
      },
      "execution_count": null,
      "outputs": []
    },
    {
      "cell_type": "code",
      "source": [
        "# =============================================================================\n",
        "# BROWSER\n",
        "# ============================================================================="
      ],
      "metadata": {
        "id": "57WOoT0lVTIq"
      },
      "execution_count": null,
      "outputs": []
    },
    {
      "cell_type": "code",
      "source": [
        "import statsmodels.formula.api as smf\n",
        "\n",
        "# fitting a model\n",
        "model = smf.logit(\"user_signups ~ C(browser_rev, Treatment('desktop_web'))\", data=df)\n",
        "results = model.fit()\n",
        "results.summary()"
      ],
      "metadata": {
        "id": "vKmcNGqmUQao"
      },
      "execution_count": null,
      "outputs": []
    },
    {
      "cell_type": "code",
      "source": [
        "# converting model coefficients to odds ratios for easier interpretation\n",
        "coefs = pd.DataFrame({\n",
        "    'coef': results.params.values,\n",
        "    'odds ratio': np.exp(results.params.values),\n",
        "    'p value': results.pvalues,\n",
        "    'name': results.params.index\n",
        "})\n",
        "coefs"
      ],
      "metadata": {
        "id": "2pVXUC4_WNjy"
      },
      "execution_count": null,
      "outputs": []
    },
    {
      "cell_type": "code",
      "source": [
        "# =============================================================================\n",
        "# OPERATING SYSTEM\n",
        "# ============================================================================="
      ],
      "metadata": {
        "id": "jFQVT-eASa-8"
      },
      "execution_count": null,
      "outputs": []
    },
    {
      "cell_type": "code",
      "source": [
        "# fitting a model\n",
        "model = smf.logit(\"user_signups ~ C(os_name_grouped, Treatment('iOS'))\", data=df)\n",
        "results = model.fit()\n",
        "results.summary()"
      ],
      "metadata": {
        "id": "cRzqa6rIZlWN"
      },
      "execution_count": null,
      "outputs": []
    },
    {
      "cell_type": "code",
      "source": [
        "# converting model coefficients to odds ratios for easier interpretation\n",
        "coefs = pd.DataFrame({\n",
        "    'coef': results.params.values,\n",
        "    'odds ratio': np.exp(results.params.values),\n",
        "    'p value': results.pvalues,\n",
        "    'name': results.params.index\n",
        "})\n",
        "coefs"
      ],
      "metadata": {
        "id": "EZhGdNgbaGnG"
      },
      "execution_count": null,
      "outputs": []
    },
    {
      "cell_type": "code",
      "source": [
        "# =============================================================================\n",
        "# STATES\n",
        "# ============================================================================="
      ],
      "metadata": {
        "id": "fb22I46SZLTz"
      },
      "execution_count": null,
      "outputs": []
    },
    {
      "cell_type": "code",
      "source": [
        "# fitting a model\n",
        "model = smf.logit(\"user_signups ~ C(region, Treatment('California'))\", data=df)\n",
        "results = model.fit()\n",
        "results.summary()"
      ],
      "metadata": {
        "id": "Qv5Z1o67bqPY"
      },
      "execution_count": null,
      "outputs": []
    },
    {
      "cell_type": "code",
      "source": [
        "# converting model coefficients to odds ratios for easier interpretation\n",
        "coefs = pd.DataFrame({\n",
        "    'coef': results.params.values,\n",
        "    'odds ratio': np.exp(results.params.values),\n",
        "    'p value': results.pvalues,\n",
        "    'name': results.params.index\n",
        "})\n",
        "coefs"
      ],
      "metadata": {
        "id": "8h4Rzy6IcIBA"
      },
      "execution_count": null,
      "outputs": []
    },
    {
      "cell_type": "code",
      "source": [
        "# =============================================================================\n",
        "# REGIONS\n",
        "# ============================================================================="
      ],
      "metadata": {
        "id": "a0PG3VnEbhaK"
      },
      "execution_count": null,
      "outputs": []
    },
    {
      "cell_type": "code",
      "source": [
        "# fitting a model\n",
        "model = smf.logit(\"user_signups ~ C(state_region, Treatment('West'))\", data=df)\n",
        "results = model.fit()\n",
        "results.summary()"
      ],
      "metadata": {
        "id": "zKIIDCjoc3lf"
      },
      "execution_count": null,
      "outputs": []
    },
    {
      "cell_type": "code",
      "source": [
        "# converting model coefficients to odds ratios for easier interpretation\n",
        "coefs = pd.DataFrame({\n",
        "    'coef': results.params.values,\n",
        "    'odds ratio': np.exp(results.params.values),\n",
        "    'p value': results.pvalues,\n",
        "    'name': results.params.index\n",
        "})\n",
        "coefs"
      ],
      "metadata": {
        "id": "yXfKn7oFc3az"
      },
      "execution_count": null,
      "outputs": []
    },
    {
      "cell_type": "code",
      "source": [
        "# =============================================================================\n",
        "# SUB-REGIONS\n",
        "# ============================================================================="
      ],
      "metadata": {
        "id": "aiBFG4f5e3XR"
      },
      "execution_count": null,
      "outputs": []
    },
    {
      "cell_type": "code",
      "source": [
        "# fitting a model\n",
        "model = smf.logit(\"user_signups ~ C(state_sub_region, Treatment('Pacific'))\", data=df)\n",
        "results = model.fit()\n",
        "results.summary()"
      ],
      "metadata": {
        "id": "oWdu_B4We1h3"
      },
      "execution_count": null,
      "outputs": []
    },
    {
      "cell_type": "code",
      "source": [
        "# converting model coefficients to odds ratios for easier interpretation\n",
        "coefs = pd.DataFrame({\n",
        "    'coef': results.params.values,\n",
        "    'odds ratio': np.exp(results.params.values),\n",
        "    'p value': results.pvalues,\n",
        "    'name': results.params.index\n",
        "})\n",
        "coefs"
      ],
      "metadata": {
        "id": "7oiJYYCFe8cS"
      },
      "execution_count": null,
      "outputs": []
    },
    {
      "cell_type": "code",
      "source": [],
      "metadata": {
        "id": "6RzvWP-srzET"
      },
      "execution_count": null,
      "outputs": []
    },
    {
      "cell_type": "code",
      "source": [
        "# =============================================================================\n",
        "# =============================================================================\n",
        "# MULTI-VARIATE (LOGISTIC REGRESSION) ANALYSIS\n",
        "# =============================================================================\n",
        "# ============================================================================="
      ],
      "metadata": {
        "id": "ZKCys-xSrf6l"
      },
      "execution_count": null,
      "outputs": []
    },
    {
      "cell_type": "code",
      "source": [
        "# =============================================================================\n",
        "# MODEL A - MODEL FIT\n",
        "# ============================================================================="
      ],
      "metadata": {
        "id": "HhXWdIUEX_AZ"
      },
      "execution_count": null,
      "outputs": []
    },
    {
      "cell_type": "code",
      "source": [
        "# fitting a model\n",
        "model = smf.logit(\"user_signups ~ C(browser_rev, Treatment('mobile_web')) + C(os_name_grouped, Treatment('iOS')) + C(region, Treatment('California'))\", data=df)\n",
        "results = model.fit()\n",
        "results.summary()"
      ],
      "metadata": {
        "id": "YmSLkuQ0fntz"
      },
      "execution_count": null,
      "outputs": []
    },
    {
      "cell_type": "code",
      "source": [
        "# converting model coefficients to odds ratios for easier interpretation\n",
        "coefs = pd.DataFrame({\n",
        "    'coef': results.params.values,\n",
        "    'odds ratio': np.exp(results.params.values),\n",
        "    'p value': results.pvalues,\n",
        "    'name': results.params.index\n",
        "})\n",
        "coefs"
      ],
      "metadata": {
        "id": "p2uoAbHyfnk7"
      },
      "execution_count": null,
      "outputs": []
    },
    {
      "cell_type": "code",
      "source": [
        "# =============================================================================\n",
        "# MODEL B - MODEL FIT\n",
        "# ============================================================================="
      ],
      "metadata": {
        "id": "TyLX-YQJZSrH"
      },
      "execution_count": null,
      "outputs": []
    },
    {
      "cell_type": "code",
      "source": [
        "# concatenating browser and operating system\n",
        "df['browser_os'] = df['browser_rev'] + \"_\" + df['os_name_grouped']\n",
        "# creating list of browser/os combinations to retain\n",
        "browser_os_list = ['mobile_web_iOS', 'mobile_web_Android', 'desktop_web_Windows', 'desktop_web_iOS', 'desktop_web_macOS', 'desktop_web_Chrome_OS',\n",
        "                   'desktop_web_Android']\n",
        "# grouping desktop_web_remaining and mobile_web_remaining to form a single 'remaining' group\n",
        "df['browser_os_grouped'] = np.where(df['browser_os'].isin(browser_os_list), df['browser_os'], 'remaining')"
      ],
      "metadata": {
        "id": "f8eLuhCdgNn0"
      },
      "execution_count": null,
      "outputs": []
    },
    {
      "cell_type": "code",
      "source": [
        "# fitting a model\n",
        "model = smf.logit(\"user_signups ~ C(browser_os_grouped, Treatment('mobile_web_iOS')) + C(region, Treatment('California'))\", data=df)\n",
        "results = model.fit()\n",
        "results.summary()"
      ],
      "metadata": {
        "id": "97hEVshHi36L"
      },
      "execution_count": null,
      "outputs": []
    },
    {
      "cell_type": "code",
      "source": [
        "# converting model coefficients to odds ratios for easier interpretation\n",
        "coefs = pd.DataFrame({\n",
        "    'coef': results.params.values,\n",
        "    'odds ratio': np.exp(results.params.values),\n",
        "    'p value': results.pvalues\n",
        "})\n",
        "coefs"
      ],
      "metadata": {
        "id": "r9aUl7bXi32P"
      },
      "execution_count": null,
      "outputs": []
    },
    {
      "cell_type": "code",
      "source": [
        "# =============================================================================\n",
        "# MODEL C - MODEL FIT\n",
        "# ============================================================================="
      ],
      "metadata": {
        "id": "Or5mJBIlmEa4"
      },
      "execution_count": null,
      "outputs": []
    },
    {
      "cell_type": "code",
      "source": [
        "# fitting a model\n",
        "model = smf.logit(\"user_signups ~ C(browser_os_grouped, Treatment('mobile_web_iOS')) + C(state_region, Treatment('West'))\", data=df)\n",
        "results = model.fit()\n",
        "results.summary()"
      ],
      "metadata": {
        "id": "wAfdNjFql1BG"
      },
      "execution_count": null,
      "outputs": []
    },
    {
      "cell_type": "code",
      "source": [
        "# converting model coefficients to odds ratios for easier interpretation\n",
        "coefs = pd.DataFrame({\n",
        "    'coef': results.params.values,\n",
        "    'odds ratio': np.exp(results.params.values),\n",
        "    'p value': results.pvalues\n",
        "})\n",
        "coefs"
      ],
      "metadata": {
        "id": "vvQYUYPYl087"
      },
      "execution_count": null,
      "outputs": []
    },
    {
      "cell_type": "code",
      "source": [
        "# =============================================================================\n",
        "# MODEL D - MODEL FIT\n",
        "# ============================================================================="
      ],
      "metadata": {
        "id": "J6e_qLQtvCZE"
      },
      "execution_count": null,
      "outputs": []
    },
    {
      "cell_type": "code",
      "source": [
        "# fitting a model\n",
        "model = smf.logit(\"user_signups ~ C(browser_os_grouped, Treatment('mobile_web_iOS')) + C(state_sub_region, Treatment('Pacific'))\", data=df)\n",
        "results = model.fit()\n",
        "results.summary()"
      ],
      "metadata": {
        "id": "VsIqx8DloK_W"
      },
      "execution_count": null,
      "outputs": []
    },
    {
      "cell_type": "code",
      "source": [
        "# converting model coefficients to odds ratios for easier interpretation\n",
        "coefs = pd.DataFrame({\n",
        "    'coef': results.params.values,\n",
        "    'odds ratio': np.exp(results.params.values),\n",
        "    'p value': results.pvalues\n",
        "})\n",
        "coefs"
      ],
      "metadata": {
        "id": "bCLWw-V6oK6q"
      },
      "execution_count": null,
      "outputs": []
    },
    {
      "cell_type": "code",
      "source": [
        "# =============================================================================\n",
        "# MODEL E - MODEL FIT\n",
        "# ============================================================================="
      ],
      "metadata": {
        "id": "W5BdskG3mT2Q"
      },
      "execution_count": null,
      "outputs": []
    },
    {
      "cell_type": "code",
      "source": [
        "# fitting a model\n",
        "model = smf.logit(\"user_signups ~ C(browser_rev, Treatment('mobile_web')) + C(os_name_grouped, Treatment('iOS')) + C(state_region, Treatment('West'))\", data=df)\n",
        "results = model.fit()\n",
        "results.summary()"
      ],
      "metadata": {
        "id": "rkKTKYH7mTi-"
      },
      "execution_count": null,
      "outputs": []
    },
    {
      "cell_type": "code",
      "source": [
        "# converting model coefficients to odds ratios for easier interpretation\n",
        "coefs = pd.DataFrame({\n",
        "    'coef': results.params.values,\n",
        "    'odds ratio': np.exp(results.params.values),\n",
        "    'p value': results.pvalues\n",
        "})\n",
        "coefs"
      ],
      "metadata": {
        "id": "1qRUFbqemTaS"
      },
      "execution_count": null,
      "outputs": []
    },
    {
      "cell_type": "code",
      "source": [
        "# =============================================================================\n",
        "# MODEL F - MODEL FIT\n",
        "# ============================================================================="
      ],
      "metadata": {
        "id": "tng0Uzq7mTQU"
      },
      "execution_count": null,
      "outputs": []
    },
    {
      "cell_type": "code",
      "source": [
        "# fitting a model\n",
        "model = smf.logit(\"user_signups ~ C(browser_rev, Treatment('mobile_web')) + C(os_name_grouped, Treatment('iOS')) + C(state_sub_region, Treatment('Pacific'))\", data=df)\n",
        "results = model.fit()\n",
        "results.summary()"
      ],
      "metadata": {
        "id": "ywxH-LwboTZu"
      },
      "execution_count": null,
      "outputs": []
    },
    {
      "cell_type": "code",
      "source": [
        "# converting model coefficients to odds ratios for easier interpretation\n",
        "coefs = pd.DataFrame({\n",
        "    'coef': results.params.values,\n",
        "    'odds ratio': np.exp(results.params.values),\n",
        "    'p value': results.pvalues\n",
        "})\n",
        "coefs"
      ],
      "metadata": {
        "id": "nO3Kb4bPoTQx"
      },
      "execution_count": null,
      "outputs": []
    },
    {
      "cell_type": "code",
      "source": [
        "# =============================================================================\n",
        "# =============================================================================\n",
        "# MODEL EVALUATION\n",
        "# =============================================================================\n",
        "# ============================================================================="
      ],
      "metadata": {
        "id": "BUzTEcnGoTHb"
      },
      "execution_count": null,
      "outputs": []
    },
    {
      "cell_type": "code",
      "source": [
        "# =============================================================================\n",
        "# Model A - MODEL EVALUATION\n",
        "# ============================================================================="
      ],
      "metadata": {
        "id": "oLkGdXJK9kAX"
      },
      "execution_count": null,
      "outputs": []
    },
    {
      "cell_type": "code",
      "source": [
        "model_a_cols = ['user_signups', 'region', 'browser_rev', 'os_name_grouped']\n",
        "df_model_a = df[model_a_cols]\n",
        "df_model_a_cat = pd.get_dummies(df_model_a, prefix=['region', 'browser', 'os'])\n",
        "X=df_model_a_cat.iloc[:, 1:60]\n",
        "y=df_model_a_cat['user_signups']\n",
        "\n",
        "#importing and training the model\n",
        "\n",
        "from sklearn.linear_model import LogisticRegression\n",
        "from sklearn import metrics\n",
        "from sklearn.model_selection import train_test_split\n",
        "from sklearn.metrics import f1_score, accuracy_score, confusion_matrix, classification_report, accuracy_score, roc_curve, auc, roc_auc_score\n",
        "import seaborn as sns\n",
        "\n",
        "X_train, X_test, y_train, y_test = train_test_split(X, y, test_size=0.3, random_state=0)\n",
        "lr = LogisticRegression(solver='newton-cg', class_weight='balanced')\n",
        "lr.fit(X_train, y_train)\n",
        "\n",
        "# predicting on the test data\n",
        "pred_test = lr.predict(X_test)\n",
        "\n",
        "# calculating and printing the f1 score\n",
        "f1_test = f1_score(y_test, pred_test)\n",
        "print('The f1 score for the testing data:', f1_test)\n",
        "\n",
        "# function to create a confusion matrix\n",
        "def conf_matrix(y_test, pred_test):\n",
        "\n",
        "    # creating a confusion matrix\n",
        "    con_mat = confusion_matrix(y_test, pred_test)\n",
        "    con_mat = pd.DataFrame(con_mat, range(2), range(2))\n",
        "\n",
        "    # ploting the confusion matrix\n",
        "    plt.figure(figsize=(6,6))\n",
        "    sns.set(font_scale=1.5)\n",
        "    sns.heatmap(con_mat, annot=True, annot_kws={\"size\": 16}, fmt='g', cmap='Blues', cbar=False)\n",
        "\n",
        "# calling function\n",
        "conf_matrix(y_test, pred_test)"
      ],
      "metadata": {
        "id": "BNWksZDYKGdy"
      },
      "execution_count": null,
      "outputs": []
    },
    {
      "cell_type": "code",
      "source": [
        "# creating conversion matrix dataframe with row and column labels\n",
        "pd.crosstab(y_test, pred_test, rownames = ['Actual'], colnames =['Predicted'], margins = True)"
      ],
      "metadata": {
        "id": "TSYYSkF6cJ2h"
      },
      "execution_count": null,
      "outputs": []
    },
    {
      "cell_type": "code",
      "source": [
        "# predicting the test set results and calculating the accuracy\n",
        "pred_test = lr.predict(X_test)\n",
        "print('Accuracy of logistic regression classifier on test set: {:.2f}'.format(lr.score(X_test, y_test)))"
      ],
      "metadata": {
        "id": "wMSiVfcVZ4BV"
      },
      "execution_count": null,
      "outputs": []
    },
    {
      "cell_type": "code",
      "source": [
        "# computing precision, recall, F-measure and support\n",
        "print(classification_report(y_test, pred_test))"
      ],
      "metadata": {
        "id": "gv3f8nVgaSwk"
      },
      "execution_count": null,
      "outputs": []
    },
    {
      "cell_type": "code",
      "source": [
        "# generating an ROC Curve\n",
        "logit_roc_auc = roc_auc_score(y_test, lr.predict(X_test))\n",
        "fpr, tpr, thresholds = roc_curve(y_test, lr.predict_proba(X_test)[:,1])\n",
        "plt.figure()\n",
        "plt.plot(fpr, tpr, label='Logistic Regression (area = %0.2f)' % logit_roc_auc)\n",
        "plt.plot([0, 1], [0, 1],'r--')\n",
        "plt.xlim([0.0, 1.0])\n",
        "plt.ylim([0.0, 1.05])\n",
        "plt.xlabel('False Positive Rate')\n",
        "plt.ylabel('True Positive Rate')\n",
        "plt.title('Receiver operating characteristic')\n",
        "plt.legend(loc=\"lower right\")\n",
        "plt.savefig('Log_ROC')\n",
        "plt.show()"
      ],
      "metadata": {
        "id": "sbH4NN-SZ33_"
      },
      "execution_count": null,
      "outputs": []
    },
    {
      "cell_type": "code",
      "source": [
        "# =============================================================================\n",
        "# MODEL B - MODEL EVALUATION\n",
        "# ============================================================================="
      ],
      "metadata": {
        "id": "xx2kKQ64_VNb"
      },
      "execution_count": null,
      "outputs": []
    },
    {
      "cell_type": "code",
      "source": [
        "model_b_cols = ['user_signups', 'region', 'browser_os_grouped']\n",
        "df_model_b = df[model_b_cols]\n",
        "df_model_b_cat = pd.get_dummies(df_model_b, prefix=['region', 'browser'])\n",
        "X=df_model_b_cat.iloc[:, 1:60]\n",
        "y=df_model_b_cat['user_signups']\n",
        "\n",
        "#importing and training the model\n",
        "\n",
        "X_train, X_test, y_train, y_test = train_test_split(X, y, test_size=0.3, random_state=0)\n",
        "lr = LogisticRegression(solver='newton-cg', class_weight='balanced')\n",
        "lr.fit(X_train, y_train)\n",
        "\n",
        "# predicting on the test data\n",
        "pred_test = lr.predict(X_test)\n",
        "\n",
        "# calculating and printing the f1 score\n",
        "f1_test = f1_score(y_test, pred_test)\n",
        "print('The f1 score for the testing data:', f1_test)\n",
        "\n",
        "# function to create a confusion matrix\n",
        "def conf_matrix(y_test, pred_test):\n",
        "\n",
        "    # creating a confusion matrix\n",
        "    con_mat = confusion_matrix(y_test, pred_test)\n",
        "    con_mat = pd.DataFrame(con_mat, range(2), range(2))\n",
        "\n",
        "    # ploting the confusion matrix\n",
        "    plt.figure(figsize=(6,6))\n",
        "    sns.set(font_scale=1.5)\n",
        "    sns.heatmap(con_mat, annot=True, annot_kws={\"size\": 16}, fmt='g', cmap='Blues', cbar=False)\n",
        "\n",
        "# calling function\n",
        "conf_matrix(y_test, pred_test)"
      ],
      "metadata": {
        "id": "g8D7yop-P0Ha"
      },
      "execution_count": null,
      "outputs": []
    },
    {
      "cell_type": "code",
      "source": [
        "# creating conversion matrix dataframe with row and column labels\n",
        "pd.crosstab(y_test, pred_test, rownames = ['Actual'], colnames =['Predicted'], margins = True)"
      ],
      "metadata": {
        "id": "8NiGcCMlCf6Z"
      },
      "execution_count": null,
      "outputs": []
    },
    {
      "cell_type": "code",
      "source": [
        "# predicting the test set results and calculating the accuracy\n",
        "pred_test = lr.predict(X_test)\n",
        "print('Accuracy of logistic regression classifier on test set: {:.2f}'.format(lr.score(X_test, y_test)))"
      ],
      "metadata": {
        "id": "WLKHL_-yCf1h"
      },
      "execution_count": null,
      "outputs": []
    },
    {
      "cell_type": "code",
      "source": [
        "# computing precision, recall, F-measure and support\n",
        "print(classification_report(y_test, pred_test))"
      ],
      "metadata": {
        "id": "ZJNXHZtvCfxK"
      },
      "execution_count": null,
      "outputs": []
    },
    {
      "cell_type": "code",
      "source": [
        "# generating an ROC Curve\n",
        "logit_roc_auc = roc_auc_score(y_test, lr.predict(X_test))\n",
        "fpr, tpr, thresholds = roc_curve(y_test, lr.predict_proba(X_test)[:,1])\n",
        "plt.figure()\n",
        "plt.plot(fpr, tpr, label='Logistic Regression (area = %0.2f)' % logit_roc_auc)\n",
        "plt.plot([0, 1], [0, 1],'r--')\n",
        "plt.xlim([0.0, 1.0])\n",
        "plt.ylim([0.0, 1.05])\n",
        "plt.xlabel('False Positive Rate')\n",
        "plt.ylabel('True Positive Rate')\n",
        "plt.title('Receiver operating characteristic')\n",
        "plt.legend(loc=\"lower right\")\n",
        "plt.savefig('Log_ROC')\n",
        "plt.show()"
      ],
      "metadata": {
        "id": "gwwlPvz1CfqP"
      },
      "execution_count": null,
      "outputs": []
    },
    {
      "cell_type": "code",
      "source": [
        "# =============================================================================\n",
        "# MODEL C - MODEL EVALUATION\n",
        "# ============================================================================="
      ],
      "metadata": {
        "id": "8TVEPfNRHWJ8"
      },
      "execution_count": null,
      "outputs": []
    },
    {
      "cell_type": "code",
      "source": [
        "model_c_cols = ['user_signups', 'state_region', 'browser_os_grouped']\n",
        "df_model_c = df[model_c_cols]\n",
        "df_model_c_cat = pd.get_dummies(df_model_c, prefix=['region', 'browser'])\n",
        "X=df_model_c_cat.iloc[:, 1:13]\n",
        "y=df_model_c_cat['user_signups']\n",
        "\n",
        "#importing and training the model\n",
        "\n",
        "X_train, X_test, y_train, y_test = train_test_split(X, y, test_size=0.3, random_state=0)\n",
        "lr = LogisticRegression(solver='newton-cg', class_weight='balanced')\n",
        "lr.fit(X_train, y_train)\n",
        "\n",
        "# predicting on the test data\n",
        "pred_test = lr.predict(X_test)\n",
        "\n",
        "# calculating and printing the f1 score\n",
        "f1_test = f1_score(y_test, pred_test)\n",
        "print('The f1 score for the testing data:', f1_test)\n",
        "\n",
        "# function to create a confusion matrix\n",
        "def conf_matrix(y_test, pred_test):\n",
        "\n",
        "    # creating a confusion matrix\n",
        "    con_mat = confusion_matrix(y_test, pred_test)\n",
        "    con_mat = pd.DataFrame(con_mat, range(2), range(2))\n",
        "\n",
        "    # ploting the confusion matrix\n",
        "    plt.figure(figsize=(6,6))\n",
        "    sns.set(font_scale=1.5)\n",
        "    sns.heatmap(con_mat, annot=True, annot_kws={\"size\": 16}, fmt='g', cmap='Blues', cbar=False)\n",
        "\n",
        "#calling function\n",
        "conf_matrix(y_test, pred_test)"
      ],
      "metadata": {
        "id": "ogwjZgPOTE3s"
      },
      "execution_count": null,
      "outputs": []
    },
    {
      "cell_type": "code",
      "source": [
        "# creating conversion matrix dataframe with row and column labels\n",
        "pd.crosstab(y_test, pred_test, rownames = ['Actual'], colnames =['Predicted'], margins = True)"
      ],
      "metadata": {
        "id": "IecKb6oiHV_r"
      },
      "execution_count": null,
      "outputs": []
    },
    {
      "cell_type": "code",
      "source": [
        "# predicting the test set results and calculating the accuracy\n",
        "pred_test = lr.predict(X_test)\n",
        "print('Accuracy of logistic regression classifier on test set: {:.2f}'.format(lr.score(X_test, y_test)))"
      ],
      "metadata": {
        "id": "4s1c7T9LI3oH"
      },
      "execution_count": null,
      "outputs": []
    },
    {
      "cell_type": "code",
      "source": [
        "# computing precision, recall, F-measure and support\n",
        "print(classification_report(y_test, pred_test))"
      ],
      "metadata": {
        "id": "saVN7DuQI3ia"
      },
      "execution_count": null,
      "outputs": []
    },
    {
      "cell_type": "code",
      "source": [
        "# generating an ROC Curve\n",
        "logit_roc_auc = roc_auc_score(y_test, lr.predict(X_test))\n",
        "fpr, tpr, thresholds = roc_curve(y_test, lr.predict_proba(X_test)[:,1])\n",
        "plt.figure()\n",
        "plt.plot(fpr, tpr, label='Logistic Regression (area = %0.2f)' % logit_roc_auc)\n",
        "plt.plot([0, 1], [0, 1],'r--')\n",
        "plt.xlim([0.0, 1.0])\n",
        "plt.ylim([0.0, 1.05])\n",
        "plt.xlabel('False Positive Rate')\n",
        "plt.ylabel('True Positive Rate')\n",
        "plt.title('Receiver operating characteristic')\n",
        "plt.legend(loc=\"lower right\")\n",
        "plt.savefig('Log_ROC')\n",
        "plt.show()"
      ],
      "metadata": {
        "id": "AGbjSmShI3dt"
      },
      "execution_count": null,
      "outputs": []
    },
    {
      "cell_type": "code",
      "source": [
        "# =============================================================================\n",
        "# MODEL D - MODEL EVALUATION\n",
        "# ============================================================================="
      ],
      "metadata": {
        "id": "DzudqbpU4de2"
      },
      "execution_count": null,
      "outputs": []
    },
    {
      "cell_type": "code",
      "source": [
        "model_d_cols = ['user_signups', 'state_sub_region', 'browser_os_grouped']\n",
        "df_model_d = df[model_d_cols]\n",
        "df_model_d_cat = pd.get_dummies(df_model_d, prefix=['region', 'browser'])\n",
        "X=df_model_d_cat.iloc[:, 1:18]\n",
        "y=df_model_d_cat['user_signups']\n",
        "\n",
        "# importing and training the model\n",
        "\n",
        "X_train, X_test, y_train, y_test = train_test_split(X, y, test_size=0.3, random_state=0)\n",
        "lr = LogisticRegression(solver='newton-cg', class_weight='balanced')\n",
        "lr.fit(X_train, y_train)\n",
        "\n",
        "# predicting on the test data\n",
        "pred_test = lr.predict(X_test)\n",
        "\n",
        "# calculating and printing the f1 score\n",
        "f1_test = f1_score(y_test, pred_test)\n",
        "print('The f1 score for the testing data:', f1_test)\n",
        "\n",
        "# function to create a confusion matrix\n",
        "def conf_matrix(y_test, pred_test):\n",
        "\n",
        "    # creating a confusion matrix\n",
        "    con_mat = confusion_matrix(y_test, pred_test)\n",
        "    con_mat = pd.DataFrame(con_mat, range(2), range(2))\n",
        "\n",
        "    # ploting the confusion matrix\n",
        "    plt.figure(figsize=(6,6))\n",
        "    sns.set(font_scale=1.5)\n",
        "    sns.heatmap(con_mat, annot=True, annot_kws={\"size\": 16}, fmt='g', cmap='Blues', cbar=False)\n",
        "\n",
        "# calling function\n",
        "conf_matrix(y_test, pred_test)"
      ],
      "metadata": {
        "id": "_aqfGxZrUunK"
      },
      "execution_count": null,
      "outputs": []
    },
    {
      "cell_type": "code",
      "source": [
        "# creating conversion matrix dataframe with row and column labels\n",
        "pd.crosstab(y_test, pred_test, rownames = ['Actual'], colnames =['Predicted'], margins = True)"
      ],
      "metadata": {
        "id": "Fec8a8ZOLPZ9"
      },
      "execution_count": null,
      "outputs": []
    },
    {
      "cell_type": "code",
      "source": [
        "# predicting the test set results and calculating the accuracy\n",
        "pred_test = lr.predict(X_test)\n",
        "print('Accuracy of logistic regression classifier on test set: {:.2f}'.format(lr.score(X_test, y_test)))"
      ],
      "metadata": {
        "id": "bMKfTraBLk21"
      },
      "execution_count": null,
      "outputs": []
    },
    {
      "cell_type": "code",
      "source": [
        "# computing precision, recall, F-measure and support\n",
        "print(classification_report(y_test, pred_test))"
      ],
      "metadata": {
        "id": "7lNm38URLp_F"
      },
      "execution_count": null,
      "outputs": []
    },
    {
      "cell_type": "code",
      "source": [
        "# generating an ROC Curve\n",
        "logit_roc_auc = roc_auc_score(y_test, lr.predict(X_test))\n",
        "fpr, tpr, thresholds = roc_curve(y_test, lr.predict_proba(X_test)[:,1])\n",
        "plt.figure()\n",
        "plt.plot(fpr, tpr, label='Logistic Regression (area = %0.2f)' % logit_roc_auc)\n",
        "plt.plot([0, 1], [0, 1],'r--')\n",
        "plt.xlim([0.0, 1.0])\n",
        "plt.ylim([0.0, 1.05])\n",
        "plt.xlabel('False Positive Rate')\n",
        "plt.ylabel('True Positive Rate')\n",
        "plt.title('Receiver operating characteristic')\n",
        "plt.legend(loc=\"lower right\")\n",
        "plt.savefig('Log_ROC')\n",
        "plt.show()"
      ],
      "metadata": {
        "id": "Iy2ua5q7Lu3K"
      },
      "execution_count": null,
      "outputs": []
    },
    {
      "cell_type": "code",
      "source": [
        "# =============================================================================\n",
        "# MODEL E - MODEL EVALUATION\n",
        "# ============================================================================="
      ],
      "metadata": {
        "id": "40WE-zXw49if"
      },
      "execution_count": null,
      "outputs": []
    },
    {
      "cell_type": "code",
      "source": [
        "model_e_cols = ['user_signups', 'state_region', 'browser_rev', 'os_name_grouped']\n",
        "df_model_e = df[model_e_cols]\n",
        "df_model_e_cat = pd.get_dummies(df_model_e, prefix=['region', 'browser', 'os'])\n",
        "X=df_model_e_cat.iloc[:, 1:13]\n",
        "y=df_model_e_cat['user_signups']\n",
        "\n",
        "# importing and training the model\n",
        "\n",
        "X_train, X_test, y_train, y_test = train_test_split(X, y, test_size=0.3, random_state=0)\n",
        "lr = LogisticRegression(solver='newton-cg', class_weight='balanced')\n",
        "lr.fit(X_train, y_train)\n",
        "\n",
        "# predicting on the test data\n",
        "pred_test = lr.predict(X_test)\n",
        "\n",
        "# calculating and printing the f1 score\n",
        "f1_test = f1_score(y_test, pred_test)\n",
        "print('The f1 score for the testing data:', f1_test)\n",
        "\n",
        "# function to create a confusion matrix\n",
        "def conf_matrix(y_test, pred_test):\n",
        "\n",
        "    # creating a confusion matrix\n",
        "    con_mat = confusion_matrix(y_test, pred_test)\n",
        "    con_mat = pd.DataFrame(con_mat, range(2), range(2))\n",
        "\n",
        "    # ploting the confusion matrix\n",
        "    plt.figure(figsize=(6,6))\n",
        "    sns.set(font_scale=1.5)\n",
        "    sns.heatmap(con_mat, annot=True, annot_kws={\"size\": 16}, fmt='g', cmap='Blues', cbar=False)\n",
        "\n",
        "# calling function\n",
        "conf_matrix(y_test, pred_test)"
      ],
      "metadata": {
        "id": "hj7Dun6F49dL"
      },
      "execution_count": null,
      "outputs": []
    },
    {
      "cell_type": "code",
      "source": [
        "# creating conversion matrix dataframe with row and column labels\n",
        "pd.crosstab(y_test, pred_test, rownames = ['Actual'], colnames =['Predicted'], margins = True)"
      ],
      "metadata": {
        "id": "RQaLMGaA6Tqs"
      },
      "execution_count": null,
      "outputs": []
    },
    {
      "cell_type": "code",
      "source": [
        "# predicting the test set results and calculating the accuracy\n",
        "pred_test = lr.predict(X_test)\n",
        "print('Accuracy of logistic regression classifier on test set: {:.2f}'.format(lr.score(X_test, y_test)))"
      ],
      "metadata": {
        "id": "TGbVfJYJ6TiX"
      },
      "execution_count": null,
      "outputs": []
    },
    {
      "cell_type": "code",
      "source": [
        "# computing precision, recall, F-measure and support\n",
        "print(classification_report(y_test, pred_test))"
      ],
      "metadata": {
        "id": "CwCkAouu6h3_"
      },
      "execution_count": null,
      "outputs": []
    },
    {
      "cell_type": "code",
      "source": [
        "# generating an ROC Curve\n",
        "logit_roc_auc = roc_auc_score(y_test, lr.predict(X_test))\n",
        "fpr, tpr, thresholds = roc_curve(y_test, lr.predict_proba(X_test)[:,1])\n",
        "plt.figure()\n",
        "plt.plot(fpr, tpr, label='Logistic Regression (area = %0.2f)' % logit_roc_auc)\n",
        "plt.plot([0, 1], [0, 1],'r--')\n",
        "plt.xlim([0.0, 1.0])\n",
        "plt.ylim([0.0, 1.05])\n",
        "plt.xlabel('False Positive Rate')\n",
        "plt.ylabel('True Positive Rate')\n",
        "plt.title('Receiver operating characteristic')\n",
        "plt.legend(loc=\"lower right\")\n",
        "plt.savefig('Log_ROC')\n",
        "plt.show()"
      ],
      "metadata": {
        "id": "PECzt5Fl6hyQ"
      },
      "execution_count": null,
      "outputs": []
    },
    {
      "cell_type": "code",
      "source": [
        "# =============================================================================\n",
        "# MODEL F - MODEL EVALUATION\n",
        "# ============================================================================="
      ],
      "metadata": {
        "id": "hda8WewD6hjk"
      },
      "execution_count": null,
      "outputs": []
    },
    {
      "cell_type": "code",
      "source": [
        "model_f_cols = ['user_signups', 'state_sub_region', 'browser_rev', 'os_name_grouped']\n",
        "df_model_f = df[model_f_cols]\n",
        "df_model_f_cat = pd.get_dummies(df_model_f, prefix=['region', 'browser', 'os'])\n",
        "X=df_model_f_cat.iloc[:, 1:18]\n",
        "y=df_model_f_cat['user_signups']\n",
        "\n",
        "# importing and training the model\n",
        "\n",
        "X_train, X_test, y_train, y_test = train_test_split(X, y, test_size=0.3, random_state=0)\n",
        "lr = LogisticRegression(solver='newton-cg', class_weight='balanced')\n",
        "lr.fit(X_train, y_train)\n",
        "\n",
        "# predicting on the test data\n",
        "pred_test = lr.predict(X_test)\n",
        "\n",
        "# calculating and printing the f1 score\n",
        "f1_test = f1_score(y_test, pred_test)\n",
        "print('The f1 score for the testing data:', f1_test)\n",
        "\n",
        "# function to create a confusion matrix\n",
        "def conf_matrix(y_test, pred_test):\n",
        "\n",
        "    # creating a confusion matrix\n",
        "    con_mat = confusion_matrix(y_test, pred_test)\n",
        "    con_mat = pd.DataFrame(con_mat, range(2), range(2))\n",
        "\n",
        "    # ploting the confusion matrix\n",
        "    plt.figure(figsize=(6,6))\n",
        "    sns.set(font_scale=1.5)\n",
        "    sns.heatmap(con_mat, annot=True, annot_kws={\"size\": 16}, fmt='g', cmap='Blues', cbar=False)\n",
        "\n",
        "# calling function\n",
        "conf_matrix(y_test, pred_test)"
      ],
      "metadata": {
        "id": "XpIZ-Y4U7Wgg"
      },
      "execution_count": null,
      "outputs": []
    },
    {
      "cell_type": "code",
      "source": [
        "creating conversion matrix dataframe with row and column labels\n",
        "pd.crosstab(y_test, pred_test, rownames = ['Actual'], colnames =['Predicted'], margins = True)"
      ],
      "metadata": {
        "id": "py28K9Xv8F9e"
      },
      "execution_count": null,
      "outputs": []
    },
    {
      "cell_type": "code",
      "source": [
        "# predicting the test set results and calculating the accuracy\n",
        "pred_test = lr.predict(X_test)\n",
        "print('Accuracy of logistic regression classifier on test set: {:.2f}'.format(lr.score(X_test, y_test)))"
      ],
      "metadata": {
        "id": "J8TT6pF58F3-"
      },
      "execution_count": null,
      "outputs": []
    },
    {
      "cell_type": "code",
      "source": [
        "# computing precision, recall, F-measure and support\n",
        "print(classification_report(y_test, pred_test))"
      ],
      "metadata": {
        "id": "FWO9J1iT8ljk"
      },
      "execution_count": null,
      "outputs": []
    },
    {
      "cell_type": "code",
      "source": [
        "# generating an ROC Curve\n",
        "logit_roc_auc = roc_auc_score(y_test, lr.predict(X_test))\n",
        "fpr, tpr, thresholds = roc_curve(y_test, lr.predict_proba(X_test)[:,1])\n",
        "plt.figure()\n",
        "plt.plot(fpr, tpr, label='Logistic Regression (area = %0.2f)' % logit_roc_auc)\n",
        "plt.plot([0, 1], [0, 1],'r--')\n",
        "plt.xlim([0.0, 1.0])\n",
        "plt.ylim([0.0, 1.05])\n",
        "plt.xlabel('False Positive Rate')\n",
        "plt.ylabel('True Positive Rate')\n",
        "plt.title('Receiver operating characteristic')\n",
        "plt.legend(loc=\"lower right\")\n",
        "plt.savefig('Log_ROC')\n",
        "plt.show()"
      ],
      "metadata": {
        "id": "95Sf3-ed8ldA"
      },
      "execution_count": null,
      "outputs": []
    }
  ]
}